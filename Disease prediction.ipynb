{
 "cells": [
  {
   "cell_type": "code",
   "execution_count": 257,
   "metadata": {},
   "outputs": [],
   "source": [
    "import pandas as pd\n",
    "import numpy as np\n",
    "import matplotlib.pyplot as plt\n",
    "import seaborn as sns"
   ]
  },
  {
   "cell_type": "code",
   "execution_count": 2,
   "metadata": {},
   "outputs": [],
   "source": [
    "DP_train_df = pd.read_csv(\"Disease Prediction Training.csv\")\n",
    "DP_test_df = pd.read_csv(\"Disease Prediction Testing.csv\")"
   ]
  },
  {
   "cell_type": "markdown",
   "metadata": {},
   "source": [
    "# Section1: Data Preparation"
   ]
  },
  {
   "cell_type": "markdown",
   "metadata": {},
   "source": [
    "## Potential data quality issue "
   ]
  },
  {
   "cell_type": "markdown",
   "metadata": {},
   "source": [
    "For some distance-based algorithms, normalization is required cause attributes in data set are in the same scale. Differece of unit impacts calculation of distance and makes it inaccurate.\n",
    "\n",
    "To apply classification algorithms, all of the attributes should be the same type. A combination of numerical and categorical attributes is not allowed.\n",
    "\n",
    "Missing value in the data set can also have a huge influence on the results.\n",
    "\n",
    "Unvalidated data points. The data set contains index of normal human body, so there is normal range for these critirion. We need to do a research on them and figure out normal range and remove unvalidate data point out of the range."
   ]
  },
  {
   "cell_type": "markdown",
   "metadata": {},
   "source": [
    "## Data preprocessing"
   ]
  },
  {
   "cell_type": "markdown",
   "metadata": {},
   "source": [
    "### Basic data cleaning"
   ]
  },
  {
   "cell_type": "code",
   "execution_count": 279,
   "metadata": {},
   "outputs": [],
   "source": [
    "#test missing value\n",
    "any(DP_train_df.isna().any())\n",
    "any(DP_test_df.isna().any())\n",
    "DP_train_df.dropna(inplace=True)\n",
    "DP_test_df.dropna(inplace=True)\n",
    "#remove duplicates()\n",
    "DP_train_df.drop_duplicates(inplace=True)\n",
    "DP_test_df.drop_duplicates(inplace=True)"
   ]
  },
  {
   "cell_type": "markdown",
   "metadata": {},
   "source": [
    "### Data validation"
   ]
  },
  {
   "cell_type": "code",
   "execution_count": 5,
   "metadata": {},
   "outputs": [],
   "source": [
    "#data validation remove outliers in Blood pressure\n",
    "DP_train_df = DP_train_df[80 <= DP_train_df['High Blood Pressure']]\n",
    "DP_train_df = DP_train_df[DP_train_df['High Blood Pressure'] <=200]\n",
    "DP_train_df = DP_train_df[DP_train_df['Low Blood Pressure'] <=130]\n",
    "DP_train_df = DP_train_df[DP_train_df['High Blood Pressure'] >= 40]"
   ]
  },
  {
   "cell_type": "markdown",
   "metadata": {},
   "source": [
    "### Data converstion"
   ]
  },
  {
   "cell_type": "markdown",
   "metadata": {},
   "source": [
    "Transform categorical attributes Glucose, Cholesterol, Gender into numeric by one-hot encoding."
   ]
  },
  {
   "cell_type": "code",
   "execution_count": 275,
   "metadata": {
    "scrolled": true
   },
   "outputs": [],
   "source": [
    "#transfrom categorical attributes to numeric using one-hot encoder\n",
    "#for naive bayes classifier\n",
    "DP_train_df_NBC = pd.concat([DP_train_df, pd.get_dummies(DP_train_df['Gender']),\n",
    "                            pd.get_dummies(DP_train_df['Glucose'], prefix='Glucose'),\n",
    "                            pd.get_dummies(DP_train_df['Cholesterol'], prefix='Cholesterol')\n",
    "                            ], axis = 1)\n",
    "DP_train_df_NBC.drop(['Gender','Glucose','Cholesterol'], axis = 1, inplace = True)"
   ]
  },
  {
   "cell_type": "markdown",
   "metadata": {},
   "source": [
    "### Data standardization"
   ]
  },
  {
   "cell_type": "markdown",
   "metadata": {},
   "source": [
    "## Exploratory Data Analysis"
   ]
  },
  {
   "cell_type": "markdown",
   "metadata": {},
   "source": [
    "### High Blood Pressure among different gender"
   ]
  },
  {
   "cell_type": "code",
   "execution_count": 248,
   "metadata": {},
   "outputs": [
    {
     "data": {
      "image/png": "[encoded data removed]",
      "text/plain": [
       "<Figure size 432x288 with 1 Axes>"
      ]
     },
     "metadata": {
      "needs_background": "light"
     },
     "output_type": "display_data"
    }
   ],
   "source": [
    "ax = sns.boxplot(y='High Blood Pressure', x='Gender', \n",
    "                 data=DP_train_df, hue = 'Gender')\n",
    "plt.title(\"High Blood Pressure among different gender\")\n",
    "plt.show()"
   ]
  },
  {
   "cell_type": "markdown",
   "metadata": {},
   "source": [
    "### Disease vs. non-disease"
   ]
  },
  {
   "cell_type": "code",
   "execution_count": 274,
   "metadata": {},
   "outputs": [
    {
     "data": {
      "image/png": "[encoded data removed]",
      "text/plain": [
       "<Figure size 432x288 with 1 Axes>"
      ]
     },
     "metadata": {},
     "output_type": "display_data"
    }
   ],
   "source": [
    "disease_count = DP_train_df[DP_train_df['Disease']==1].count()[0]\n",
    "nondisease_count = DP_train_df[DP_train_df['Disease']==0].count()[0]\n",
    "plt.figure()\n",
    "plt.pie([disease_count,nondisease_count], labels=['disease','non_disease'])\n",
    "plt.title(\"disease vs. non-disease\")\n",
    "plt.show()"
   ]
  },
  {
   "cell_type": "markdown",
   "metadata": {},
   "source": [
    "# Section2: Model building, tuning and evaluation"
   ]
  },
  {
   "cell_type": "markdown",
   "metadata": {},
   "source": [
    "## NBC "
   ]
  },
  {
   "cell_type": "markdown",
   "metadata": {},
   "source": [
    "### Data preparation"
   ]
  },
  {
   "cell_type": "markdown",
   "metadata": {},
   "source": [
    "Extract target and attributes from original data set for the further usage of algorithms. Conduct a train, test set split"
   ]
  },
  {
   "cell_type": "code",
   "execution_count": 7,
   "metadata": {},
   "outputs": [],
   "source": [
    "from sklearn.model_selection import train_test_split, GridSearchCV, cross_val_score, ShuffleSplit\n",
    "from sklearn import metrics\n",
    "from sklearn.naive_bayes import GaussianNB, BernoulliNB, MultinomialNB\n",
    "DP_train_X = DP_train_df_NBC.drop('Disease', axis=1)\n",
    "DP_train_Y = DP_train_df_NBC['Disease']\n",
    "X_train, X_test, Y_train, Y_test = train_test_split(DP_train_X, DP_train_Y, test_size = 0.3)"
   ]
  },
  {
   "cell_type": "markdown",
   "metadata": {},
   "source": [
    "### Gaussian NB"
   ]
  },
  {
   "cell_type": "markdown",
   "metadata": {},
   "source": [
    "We use accuracy as the evaluation cause it is a strong measurement of how well the classification model works"
   ]
  },
  {
   "cell_type": "code",
   "execution_count": 51,
   "metadata": {},
   "outputs": [
    {
     "name": "stdout",
     "output_type": "stream",
     "text": [
      "Gaussian NB Accuracy: \n",
      "67.55%\n"
     ]
    }
   ],
   "source": [
    "#fit Gaussian NB model\n",
    "gnb = GaussianNB()\n",
    "gnb.fit(X_train, Y_train)\n",
    "gnb_pred = gnb.predict(X_test)\n",
    "print(f\"Gaussian NB Accuracy: \\n{round(metrics.accuracy_score(Y_test, gnb_pred)*100,2)}%\")"
   ]
  },
  {
   "cell_type": "markdown",
   "metadata": {},
   "source": [
    "### Mutinomial NB"
   ]
  },
  {
   "cell_type": "markdown",
   "metadata": {},
   "source": [
    "#### Build the model"
   ]
  },
  {
   "cell_type": "code",
   "execution_count": 52,
   "metadata": {},
   "outputs": [
    {
     "name": "stdout",
     "output_type": "stream",
     "text": [
      "Mutinomial NB Accuracy: \n",
      "70.98%\n"
     ]
    }
   ],
   "source": [
    "#build  \n",
    "mnb = MultinomialNB(alpha = 0.5)\n",
    "#\n",
    "mnb.fit(X_train, Y_train)\n",
    "mnb_pred = mnb.predict(X_test)\n",
    "print(f\"Mutinomial NB Accuracy: \\n{round(metrics.accuracy_score(Y_test, mnb_pred)*100,2)}%\")"
   ]
  },
  {
   "cell_type": "markdown",
   "metadata": {},
   "source": [
    "#### Hyperparameter tuning"
   ]
  },
  {
   "cell_type": "markdown",
   "metadata": {},
   "source": [
    "We are going to find the best hyperparameter of zero probability smoothing for MutinomialNB by grid search. Cross validation set is also defined and will be reused for other algorithm "
   ]
  },
  {
   "cell_type": "code",
   "execution_count": 61,
   "metadata": {},
   "outputs": [],
   "source": [
    "#hyperparameter tuning\n",
    "MultinomialNB_par = {'alpha':[0.1,1,10,100]}\n",
    "#cross validation split\n",
    "cv = ShuffleSplit(n_splits=10,test_size=0.3,random_state=5)"
   ]
  },
  {
   "cell_type": "code",
   "execution_count": 62,
   "metadata": {},
   "outputs": [
    {
     "name": "stdout",
     "output_type": "stream",
     "text": [
      "Best parameters for MutinomialNB are:\n",
      "alpha:10\n"
     ]
    }
   ],
   "source": [
    "MultinomialNB_grid = GridSearchCV(MultinomialNB(), \n",
    "                                 param_grid=MutinomialNB_par,\n",
    "                                cv=cv)\n",
    "MultinomialNB_grid.fit(X_train, Y_train)\n",
    "#best model\n",
    "print(\"Best parameters for MutinomialNB are:\")\n",
    "for index, values in MultinomialNB_grid.best_params_.items():\n",
    "    print(f\"{index}:{values}\")"
   ]
  },
  {
   "cell_type": "code",
   "execution_count": 73,
   "metadata": {},
   "outputs": [
    {
     "name": "stdout",
     "output_type": "stream",
     "text": [
      "Multinomial NB Accuracy after tuning: \n",
      "70.98%\n"
     ]
    }
   ],
   "source": [
    "mnb = MultinomialNB(alpha = 10)\n",
    "mnb.fit(X_train, Y_train)\n",
    "mnb_pred = mnb.predict(X_test)\n",
    "print(f\"Multinomial NB Accuracy after tuning: \\n{round(metrics.accuracy_score(Y_test, mnb_pred)*100,2)}%\")"
   ]
  },
  {
   "cell_type": "markdown",
   "metadata": {},
   "source": [
    "### Bernoulli NB"
   ]
  },
  {
   "cell_type": "markdown",
   "metadata": {},
   "source": [
    "#### Build the model"
   ]
  },
  {
   "cell_type": "code",
   "execution_count": 67,
   "metadata": {},
   "outputs": [
    {
     "name": "stdout",
     "output_type": "stream",
     "text": [
      "Bernoulli NB Accuracy: \n",
      "59.83%\n"
     ]
    }
   ],
   "source": [
    "bnb = BernoulliNB(alpha = 1.0)\n",
    "bnb.fit(X_train, Y_train)\n",
    "bnb_pred = bnb.predict(X_test)\n",
    "print(f\"Bernoulli NB Accuracy: \\n{round(metrics.accuracy_score(Y_test, bnb_pred)*100,2)}%\")"
   ]
  },
  {
   "cell_type": "markdown",
   "metadata": {},
   "source": [
    "#### Hyperparameter tuning"
   ]
  },
  {
   "cell_type": "markdown",
   "metadata": {},
   "source": [
    "We are going to find the best hyperparameter of zero probability smoothing for BernoulliNB by grid search"
   ]
  },
  {
   "cell_type": "code",
   "execution_count": 70,
   "metadata": {},
   "outputs": [
    {
     "name": "stdout",
     "output_type": "stream",
     "text": [
      "Best parameters for MutinomialNB are:\n",
      "alpha:10\n"
     ]
    }
   ],
   "source": [
    "#hyperparameter tuning\n",
    "#alpha=[0.1,1,10]\n",
    "Bernoulli_par = {'alpha':[0.1,1,10,100]}\n",
    "BernoulliNB_grid = GridSearchCV(BernoulliNB(), \n",
    "                                 param_grid=MutinomialNB_par,\n",
    "                                cv=cv)\n",
    "BernoulliNB_grid.fit(X_train, Y_train)\n",
    "#best model\n",
    "print(\"Best parameters for MutinomialNB are:\")\n",
    "for index, values in BernoulliNB_grid.best_params_.items():\n",
    "    print(f\"{index}:{values}\")"
   ]
  },
  {
   "cell_type": "code",
   "execution_count": 74,
   "metadata": {},
   "outputs": [
    {
     "name": "stdout",
     "output_type": "stream",
     "text": [
      "Bernoulli NB Accuracy after tuning: \n",
      "59.83%\n"
     ]
    }
   ],
   "source": [
    "bnb = BernoulliNB(alpha = 10)\n",
    "bnb.fit(X_train, Y_train)\n",
    "bnb_pred = bnb.predict(X_test)\n",
    "print(f\"Bernoulli NB Accuracy after tuning: \\n{round(metrics.accuracy_score(Y_test, bnb_pred)*100,2)}%\")"
   ]
  },
  {
   "cell_type": "markdown",
   "metadata": {},
   "source": [
    "## KNN"
   ]
  },
  {
   "cell_type": "markdown",
   "metadata": {},
   "source": [
    "### Data preparation"
   ]
  },
  {
   "cell_type": "markdown",
   "metadata": {},
   "source": [
    "KNN is a distance-based cluster algorithm so that the scale difference of features impacts on the calculation a lot. Here we need a normalization for the data"
   ]
  },
  {
   "cell_type": "code",
   "execution_count": 77,
   "metadata": {},
   "outputs": [],
   "source": [
    "from sklearn.neighbors import KNeighborsClassifier\n",
    "from sklearn.pipeline import make_pipeline\n",
    "from sklearn import preprocessing\n",
    "sc = preprocessing.StandardScaler()\n",
    "sc.fit(X_train)\n",
    "X_train_std = sc.transform(X_train)\n",
    "X_test_std = sc.transform(X_test)"
   ]
  },
  {
   "cell_type": "markdown",
   "metadata": {},
   "source": [
    "### Build the model"
   ]
  },
  {
   "cell_type": "code",
   "execution_count": 80,
   "metadata": {},
   "outputs": [
    {
     "name": "stdout",
     "output_type": "stream",
     "text": [
      "KNN Accuracy: \n",
      "69.47%\n"
     ]
    }
   ],
   "source": [
    "KNNC = KNeighborsClassifier()\n",
    "KNNC.fit(X_train_std, Y_train)\n",
    "KNN_pred = KNNC.predict(X_test_std)\n",
    "print(f\"KNN Accuracy: \\n{round(metrics.accuracy_score(Y_test, KNN_pred)*100,2)}%\")"
   ]
  },
  {
   "cell_type": "markdown",
   "metadata": {},
   "source": [
    "### Hyperparameter tuning"
   ]
  },
  {
   "cell_type": "code",
   "execution_count": 82,
   "metadata": {},
   "outputs": [
    {
     "name": "stdout",
     "output_type": "stream",
     "text": [
      "Best parameters for KNN are:\n",
      "n_neighbors:100\n",
      "p:1\n"
     ]
    }
   ],
   "source": [
    "#model with best parameters\n",
    "knn_par = {'n_neighbors':[5,25,50,100],\n",
    "          'p':[1,2]}\n",
    "knn_grid =GridSearchCV(KNeighborsClassifier(),\n",
    "                      param_grid=knn_par,\n",
    "                      cv=cv)\n",
    "knn_grid.fit(X_train_std, Y_train)\n",
    "print(\"Best parameters for KNN are:\")\n",
    "for index, values in knn_grid.best_params_.items():\n",
    "    print(f\"{index}:{values}\")"
   ]
  },
  {
   "cell_type": "code",
   "execution_count": 318,
   "metadata": {},
   "outputs": [
    {
     "name": "stdout",
     "output_type": "stream",
     "text": [
      "KNN Accuracy: \n",
      "73.01%\n"
     ]
    }
   ],
   "source": [
    "KNNC_best = KNeighborsClassifier(n_neighbors=100, p=1)\n",
    "KNNC_best.fit(X_train_std, Y_train)\n",
    "KNN_pred = KNNC.predict(X_test_std)\n",
    "print(f\"KNN Accuracy: \\n{round(metrics.accuracy_score(Y_test, KNN_pred)*100,2)}%\")\n",
    "#make knn pipe\n",
    "knn_pipe = make_pipeline(sc, KNNC_best)"
   ]
  },
  {
   "cell_type": "markdown",
   "metadata": {},
   "source": [
    "## Linear SVM"
   ]
  },
  {
   "cell_type": "markdown",
   "metadata": {},
   "source": [
    "### Data preparation"
   ]
  },
  {
   "cell_type": "markdown",
   "metadata": {},
   "source": [
    "SVM is a distanced-based classifier so that normalization is required."
   ]
  },
  {
   "cell_type": "markdown",
   "metadata": {},
   "source": [
    "### Build model"
   ]
  },
  {
   "cell_type": "code",
   "execution_count": 85,
   "metadata": {},
   "outputs": [],
   "source": [
    "from sklearn.svm import SVC\n",
    "from sklearn import svm"
   ]
  },
  {
   "cell_type": "code",
   "execution_count": 89,
   "metadata": {},
   "outputs": [
    {
     "name": "stdout",
     "output_type": "stream",
     "text": [
      "Linear SVM Accuracy: \n",
      " 73.05%\n"
     ]
    }
   ],
   "source": [
    "#predict with default parameters\n",
    "lin_clf = svm.LinearSVC(max_iter=10000)\n",
    "lin_clf.fit(X_train_std,Y_train)\n",
    "lin_clf_pred = lin_clf.predict(X_test_std)\n",
    "print(f\"Linear SVM Accuracy: \\n {round(metrics.accuracy_score(Y_test, lin_clf_pred)*100,2)}%\")"
   ]
  },
  {
   "cell_type": "markdown",
   "metadata": {},
   "source": [
    "### Hyperparameter tuning"
   ]
  },
  {
   "cell_type": "code",
   "execution_count": 133,
   "metadata": {},
   "outputs": [
    {
     "data": {
      "image/png": "[encoded data removed]",
      "text/plain": [
       "<Figure size 432x288 with 1 Axes>"
      ]
     },
     "metadata": {
      "needs_background": "light"
     },
     "output_type": "display_data"
    }
   ],
   "source": [
    "#manually tune C\n",
    "#initialize C\n",
    "C = np.arange(0.1,1,0.1)\n",
    "accuracy_result_svm=[]\n",
    "#for each C, construct model and calculate accuracy\n",
    "for c in C:\n",
    "    SVM_ = svm.LinearSVC(C=c, max_iter=10000)\n",
    "    SVM_.fit(X_train_std, Y_train)\n",
    "    #calculate cross validation score\n",
    "    acc = cross_val_score(SVM_, X_train_std, Y_train, cv=cv).mean()*100\n",
    "    accuracy_result_svm.append(acc)\n",
    "plt.plot(C, accuracy_result_svm, color='red', marker='o')\n",
    "plt.title('C sensitivity', fontsize=14)\n",
    "plt.xlabel('Cost', fontsize=14)\n",
    "plt.ylabel('Accuracy', fontsize=14)\n",
    "plt.show()"
   ]
  },
  {
   "cell_type": "code",
   "execution_count": 136,
   "metadata": {},
   "outputs": [
    {
     "name": "stdout",
     "output_type": "stream",
     "text": [
      "Best parameters for SVM is \n",
      " C=0.1:\n",
      "Linear SVM Accuracy after tuning: \n",
      " 73.05%\n"
     ]
    }
   ],
   "source": [
    "#predict with default parameters\n",
    "print(\"Best parameters for SVM is \\n C=0.1:\")\n",
    "lin_clf = svm.LinearSVC(max_iter=10000,C=.1)\n",
    "lin_clf.fit(X_train_std,Y_train)\n",
    "lin_clf_pred = lin_clf.predict(X_test_std)\n",
    "print(f\"Linear SVM Accuracy after tuning: \\n {round(metrics.accuracy_score(Y_test, lin_clf_pred)*100,2)}%\")"
   ]
  },
  {
   "cell_type": "markdown",
   "metadata": {},
   "source": [
    "### Model evaluation"
   ]
  },
  {
   "cell_type": "code",
   "execution_count": 303,
   "metadata": {
    "scrolled": true
   },
   "outputs": [
    {
     "name": "stdout",
     "output_type": "stream",
     "text": [
      "               precision    recall  f1-score   support\n",
      "\n",
      "predicted_neg       0.70      0.80      0.75      7252\n",
      "predicted_pos       0.76      0.66      0.71      7175\n",
      "\n",
      "     accuracy                           0.73     14427\n",
      "    macro avg       0.73      0.73      0.73     14427\n",
      " weighted avg       0.73      0.73      0.73     14427\n",
      "\n"
     ]
    }
   ],
   "source": [
    "#make svm pipe line\n",
    "LinSVM_pipe = make_pipeline(sc, lin_clf)\n",
    "#print evaluation report\n",
    "print(metrics.classification_report(Y_test,lin_clf_pred, target_names=['predicted_neg','predicted_pos']))"
   ]
  },
  {
   "cell_type": "markdown",
   "metadata": {},
   "source": [
    "## Non-linear SVM"
   ]
  },
  {
   "cell_type": "markdown",
   "metadata": {},
   "source": [
    "### RBF Kernel"
   ]
  },
  {
   "cell_type": "markdown",
   "metadata": {},
   "source": [
    "### Build model"
   ]
  },
  {
   "cell_type": "code",
   "execution_count": 215,
   "metadata": {},
   "outputs": [
    {
     "name": "stdout",
     "output_type": "stream",
     "text": [
      "RBF SVM Accuracy after tuning: \n",
      " 73.35%\n"
     ]
    }
   ],
   "source": [
    "rbf_clf = svm.SVC(kernel='rbf', cache_size=2000)\n",
    "rbf_clf.fit(X_train_std, Y_train)\n",
    "rbf_clf_pred = rbf_clf.predict(X_test_std)\n",
    "print(f\"RBF SVM Accuracy: \\n {round(metrics.accuracy_score(Y_test, rbf_clf_pred)*100,2)}%\")"
   ]
  },
  {
   "cell_type": "markdown",
   "metadata": {},
   "source": [
    "### Hyperparameter tuning"
   ]
  },
  {
   "cell_type": "code",
   "execution_count": 201,
   "metadata": {},
   "outputs": [
    {
     "name": "stdout",
     "output_type": "stream",
     "text": [
      "Length of accuracy vector:(1, 1, 1)\n",
      "Length of accuracy vector:(2, 2, 2)\n",
      "Length of accuracy vector:(3, 3, 3)\n",
      "Length of accuracy vector:(4, 4, 4)\n",
      "Length of accuracy vector:(5, 5, 5)\n"
     ]
    }
   ],
   "source": [
    "gamma=[0.1,0.25,0.5,0.75,1]\n",
    "rbf_acc_1=[]\n",
    "rbf_acc_2=[]\n",
    "rbf_acc_3=[]\n",
    "for g in gamma:\n",
    "    #C=0.1\n",
    "    rbf_model1 = SVC(C=.1, kernel='rbf', gamma=g, cache_size=2000)\n",
    "    rbf_model1.fit(X_train_std, Y_train)\n",
    "    #use cross validation score as evaluation\n",
    "    acc=cross_val_score(rbf_model1, X_train_std, Y_train, cv=cv).mean()*100\n",
    "    rbf_acc_1.append(acc)\n",
    "    #C=0.5\n",
    "    rbf_model2 = SVC(C=.5, kernel='rbf', gamma=g, cache_size=2000)\n",
    "    rbf_model2.fit(X_train_std, Y_train)\n",
    "    acc2=cross_val_score(rbf_model2, X_train_std, Y_train, cv=cv).mean()*100\n",
    "    rbf_acc_2.append(acc2)\n",
    "    #C=1\n",
    "    rbf_model3 = SVC(C=1, kernel='rbf', gamma=g, cache_size=2000)\n",
    "    rbf_model3.fit(X_train_std, Y_train)\n",
    "    acc3=cross_val_score(rbf_model3, X_train_std, Y_train, cv=cv).mean()*100\n",
    "    rbf_acc_3.append(acc3)\n",
    "    print(f\"Length of accuracy vector:{len(rbf_acc_1),len(rbf_acc_2),len(rbf_acc_3)}\")"
   ]
  },
  {
   "cell_type": "code",
   "execution_count": 222,
   "metadata": {},
   "outputs": [
    {
     "data": {
      "image/png": "[encoded data removed]",
      "text/plain": [
       "<Figure size 432x288 with 1 Axes>"
      ]
     },
     "metadata": {
      "needs_background": "light"
     },
     "output_type": "display_data"
    }
   ],
   "source": [
    "#sensitivity of gamma\n",
    "plt.figure()\n",
    "plt.plot(gamma, rbf_acc_1,'o-', color = 'r',label=\"C=0.1\")\n",
    "plt.plot(gamma, rbf_acc_2,'o-', color = 'g', label=\"C=0.5\")\n",
    "plt.plot(gamma, rbf_acc_3,'o-', color = 'b', label=\"C=1\")\n",
    "plt.xlabel(\"Gamma\")\n",
    "plt.ylabel(\"Accuracy\")\n",
    "plt.title(\"Gamma sensitivity\")\n",
    "plt.legend()\n",
    "plt.show()"
   ]
  },
  {
   "cell_type": "code",
   "execution_count": 214,
   "metadata": {},
   "outputs": [
    {
     "name": "stdout",
     "output_type": "stream",
     "text": [
      "RBF SVM Accuracy after tuning: \n",
      " 73.3%\n"
     ]
    }
   ],
   "source": [
    "#model with the best parameters\n",
    "rbf_best = SVC(C=.5, kernel='rbf', gamma=.1, cache_size=2000)\n",
    "rbf_best.fit(X_train_std, Y_train)\n",
    "rbf_clf_best_pred = rbf_best.predict(X_test_std)\n",
    "print(f\"RBF SVM Accuracy after tuning: \\n {round(metrics.accuracy_score(Y_test, rbf_clf_best_pred)*100,2)}%\")\n",
    "#make svm pipe line\n",
    "rbfSVM_pipe = make_pipeline(sc, rbf_best)"
   ]
  },
  {
   "cell_type": "markdown",
   "metadata": {},
   "source": [
    "## Random forest"
   ]
  },
  {
   "cell_type": "markdown",
   "metadata": {},
   "source": [
    "### Build the model"
   ]
  },
  {
   "cell_type": "code",
   "execution_count": 180,
   "metadata": {},
   "outputs": [
    {
     "name": "stdout",
     "output_type": "stream",
     "text": [
      "Accuracy of random forest algorithm: \n",
      " 69.57%\n"
     ]
    }
   ],
   "source": [
    "#random forest\n",
    "from sklearn.ensemble import RandomForestClassifier\n",
    "Random_forest_clf = RandomForestClassifier(n_estimators=100, max_features=5, random_state=16)\n",
    "Random_forest_clf.fit(X_train, Y_train)\n",
    "RF_clf_pred = Random_forest_clf.predict(X_test)\n",
    "print(f\"Accuracy of random forest algorithm: \\n {round(metrics.accuracy_score(Y_test, RF_clf_pred)*100,2)}%\")"
   ]
  },
  {
   "cell_type": "markdown",
   "metadata": {},
   "source": [
    "### Hyperparameter tuning"
   ]
  },
  {
   "cell_type": "code",
   "execution_count": 312,
   "metadata": {},
   "outputs": [],
   "source": [
    "rf_par = {'n_estimators':[10,50,100],\n",
    "         'max_features':[1,2,3,5],\n",
    "         'max_depth':[5,25,50],\n",
    "         'criterion':['gini','entropy']}"
   ]
  },
  {
   "cell_type": "code",
   "execution_count": 313,
   "metadata": {},
   "outputs": [
    {
     "name": "stdout",
     "output_type": "stream",
     "text": [
      "Best parameters for Random forest are:\n",
      "criterion:entropy\n",
      "max_depth:5\n",
      "max_features:5\n",
      "n_estimators:100\n"
     ]
    }
   ],
   "source": [
    "random_forest_grid = GridSearchCV(RandomForestClassifier(),\n",
    "                                 param_grid=rf_par,\n",
    "                                 cv=cv)\n",
    "random_forest_grid.fit(X_train,Y_train)\n",
    "print(\"Best parameters for Random forest are:\")\n",
    "for index, values in random_forest_grid.best_params_.items():\n",
    "    print(f\"{index}:{values}\")"
   ]
  },
  {
   "cell_type": "code",
   "execution_count": 314,
   "metadata": {},
   "outputs": [
    {
     "name": "stdout",
     "output_type": "stream",
     "text": [
      "Accuracy of random forest algorithm after tuning: \n",
      " 73.06%\n"
     ]
    }
   ],
   "source": [
    "RF_clf_pred = random_forest_grid.predict(X_test)\n",
    "print(f\"Accuracy of random forest algorithm after tuning: \\n {round(metrics.accuracy_score(Y_test, RF_clf_pred)*100,2)}%\")"
   ]
  },
  {
   "cell_type": "markdown",
   "metadata": {},
   "source": [
    "## Gradient boosting machine"
   ]
  },
  {
   "cell_type": "markdown",
   "metadata": {},
   "source": [
    "### Build model"
   ]
  },
  {
   "cell_type": "code",
   "execution_count": 190,
   "metadata": {},
   "outputs": [
    {
     "name": "stdout",
     "output_type": "stream",
     "text": [
      "Accuracy of random forest algorithm: \n",
      " 69.57%\n"
     ]
    }
   ],
   "source": [
    "from sklearn.ensemble import GradientBoostingClassifier as GBM\n",
    "GBM_clf =GBM(n_estimators=num_trees, random_state=16)\n",
    "GBM_clf.fit(X_train, Y_train)\n",
    "gbm_clf_pred = Random_forest_clf.predict(X_test)\n",
    "print(f\"Accuracy of random forest algorithm: \\n {round(metrics.accuracy_score(Y_test, gbm_clf_pred)*100,2)}%\")"
   ]
  },
  {
   "cell_type": "markdown",
   "metadata": {},
   "source": [
    "### Hyperprameter tuning"
   ]
  },
  {
   "cell_type": "code",
   "execution_count": 196,
   "metadata": {},
   "outputs": [],
   "source": [
    "#initialize paramaters and their range\n",
    "gbm_par = {'n_estimators':[10,50,100],\n",
    "         'learning_rate':[.05,.50,1],\n",
    "         'max_depth':[3,5,10]}"
   ]
  },
  {
   "cell_type": "code",
   "execution_count": 197,
   "metadata": {},
   "outputs": [
    {
     "name": "stdout",
     "output_type": "stream",
     "text": [
      "Best parameters for Random forest are:\n",
      "learning_rate:0.05\n",
      "max_depth:3\n",
      "n_estimators:100\n"
     ]
    }
   ],
   "source": [
    "GBM_grid = GridSearchCV(GBM(),\n",
    "                        param_grid=gbm_par,\n",
    "                        cv=cv)\n",
    "GBM_grid.fit(X_train,Y_train)\n",
    "print(\"Best parameters for Random forest are:\")\n",
    "for index, values in GBM_grid.best_params_.items():\n",
    "    print(f\"{index}:{values}\")"
   ]
  },
  {
   "cell_type": "code",
   "execution_count": 310,
   "metadata": {},
   "outputs": [
    {
     "name": "stdout",
     "output_type": "stream",
     "text": [
      "Accuracy of random forest algorithm after tuning: \n",
      " 73.43%\n"
     ]
    }
   ],
   "source": [
    "gbm_clf_pred = GBM_grid.predict(X_test)\n",
    "print(f\"Accuracy of random forest algorithm after tuning: \\n {round(metrics.accuracy_score(Y_test, gbm_clf_pred)*100,2)}%\")"
   ]
  },
  {
   "cell_type": "markdown",
   "metadata": {},
   "source": [
    "### Model evaluation: ROC Curve"
   ]
  },
  {
   "cell_type": "code",
   "execution_count": 242,
   "metadata": {},
   "outputs": [
    {
     "name": "stdout",
     "output_type": "stream",
     "text": [
      "AUC score: \n",
      " 0.8023748825266994\n"
     ]
    },
    {
     "data": {
      "image/png": "[encoded data removed]",
      "text/plain": [
       "<Figure size 504x504 with 1 Axes>"
      ]
     },
     "metadata": {
      "needs_background": "light"
     },
     "output_type": "display_data"
    }
   ],
   "source": [
    "from sklearn.metrics import roc_curve, roc_auc_score\n",
    "#predict the probability of the data points belongs to each class\n",
    "gbm_pred_prob = GBM_grid.predict_proba(X_test)[:,1]\n",
    "#calculate false positve, true positive rate,\n",
    "#known that roc curve is TP vs. FP\n",
    "FP_rate, TP_rate, threshold = roc_curve(Y_test, gbm_pred_prob)\n",
    "print(\"AUC score: \\n\" ,roc_auc_score(Y_test, gbm_pred_prob))\n",
    "#plot roc curve\n",
    "plt.subplots(1,figsize=(7,7))\n",
    "plt.title(\"ROC Curve \")\n",
    "plt.plot(FP_rate, TP_rate, marker='.')\n",
    "plt.plot([0,1], ls=\"--\")\n",
    "plt.xlabel(\"True Positive Rate\")\n",
    "plt.ylabel(\"False Positive Rate\")\n",
    "plt.show()"
   ]
  },
  {
   "cell_type": "markdown",
   "metadata": {},
   "source": [
    "# Section3: Prediction and Interpretation"
   ]
  },
  {
   "cell_type": "markdown",
   "metadata": {},
   "source": [
    "## Test data preparation"
   ]
  },
  {
   "cell_type": "code",
   "execution_count": 293,
   "metadata": {},
   "outputs": [],
   "source": [
    "#Data preparation\n",
    "DP_test_df = DP_test_df[80 <= DP_test_df['High Blood Pressure']]\n",
    "DP_test_df = DP_test_df[DP_test_df['High Blood Pressure'] <=200]\n",
    "DP_test_df = DP_test_df[DP_test_df['Low Blood Pressure'] <=130]\n",
    "DP_test_df = DP_test_df[DP_test_df['High Blood Pressure'] >= 40]\n",
    "#transfrom categorical attributes to numeric using one-hot encoder\n",
    "#for naive bayes classifier\n",
    "DP_test = pd.concat([DP_test_df, pd.get_dummies(DP_test_df['Gender']),\n",
    "                            pd.get_dummies(DP_test_df['Glucose'], prefix='Glucose'),\n",
    "                            pd.get_dummies(DP_test_df['Cholesterol'], prefix='Cholesterol')\n",
    "                            ], axis = 1)\n",
    "DP_test.drop(['Gender','Glucose','Cholesterol'], axis = 1, inplace = True)\n",
    "#select features to predict\n",
    "DP_test_X = DP_test.drop('ID', axis=1)"
   ]
  },
  {
   "cell_type": "markdown",
   "metadata": {},
   "source": [
    "## Result calculation"
   ]
  },
  {
   "cell_type": "code",
   "execution_count": 296,
   "metadata": {},
   "outputs": [],
   "source": [
    "#Naive Bayes\n",
    "#Multinomial NB\n",
    "MulNB_results = mnb.predict(DP_test_X)"
   ]
  },
  {
   "cell_type": "code",
   "execution_count": 319,
   "metadata": {},
   "outputs": [],
   "source": [
    "#KNN\n",
    "KNN_results = knn_pipe.predict(DP_test_X)"
   ]
  },
  {
   "cell_type": "code",
   "execution_count": 320,
   "metadata": {},
   "outputs": [],
   "source": [
    "#Linear SVM\n",
    "LinSVM_results = LinSVM_pipe.predict(DP_test_X)"
   ]
  },
  {
   "cell_type": "code",
   "execution_count": 306,
   "metadata": {},
   "outputs": [],
   "source": [
    "#RBF SVM\n",
    "rbfSNM_results = rbfSVM_pipe.predict(DP_test_X)"
   ]
  },
  {
   "cell_type": "code",
   "execution_count": 315,
   "metadata": {},
   "outputs": [],
   "source": [
    "#Random Forest\n",
    "randomforest_results = random_forest_grid.predict(DP_test_X)"
   ]
  },
  {
   "cell_type": "code",
   "execution_count": 311,
   "metadata": {},
   "outputs": [],
   "source": [
    "#Gradient Boosting Machine\n",
    "GBM_results = GBM_grid.predict(DP_test_X)"
   ]
  },
  {
   "cell_type": "code",
   "execution_count": 331,
   "metadata": {},
   "outputs": [],
   "source": [
    "prediction_results = pd.DataFrame({'ID':DP_test['ID'],'NBC':MulNB_results,\n",
    "                     'KNN':KNN_results,'SVM-Linear':LinSVM_results,\n",
    "                    'SVM-RBF':rbfSNM_results,'RF':randomforest_results,\n",
    "                     'GBM':GBM_results})"
   ]
  },
  {
   "cell_type": "code",
   "execution_count": 333,
   "metadata": {},
   "outputs": [],
   "source": [
    "prediction_results.to_csv('HW_03 prediction.csv')"
   ]
  }
 ],
 "metadata": {
  "kernelspec": {
   "display_name": "Python 3",
   "language": "python",
   "name": "python3"
  }
 },
 "nbformat": 4,
 "nbformat_minor": 4
}
