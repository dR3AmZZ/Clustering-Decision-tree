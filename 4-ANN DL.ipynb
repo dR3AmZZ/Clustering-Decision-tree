{
 "cells": [
  {
   "cell_type": "code",
   "execution_count": 33,
   "metadata": {},
   "outputs": [],
   "source": [
    "import pandas as pd\n",
    "import numpy as np\n",
    "import matplotlib.pyplot as plt\n",
    "import seaborn as sns\n",
    "from sklearn.preprocessing import StandardScaler\n",
    "from sklearn.model_selection import train_test_split\n",
    "from sklearn import metrics\n",
    "from sklearn.linear_model import LogisticRegression\n",
    "from sklearn.pipeline import make_pipeline\n",
    "from sklearn.model_selection import ShuffleSplit,cross_val_score\n",
    "from sklearn.model_selection import cross_validate, GridSearchCV\n",
    "from keras import models\n",
    "from keras.models import Sequential\n",
    "from keras.layers import Dense\n",
    "import keras\n",
    "from sklearn.tree import DecisionTreeClassifier"
   ]
  },
  {
   "cell_type": "code",
   "execution_count": 34,
   "metadata": {},
   "outputs": [],
   "source": [
    "DP_train_df = pd.read_csv(\"Disease Prediction Training.csv\")\n",
    "DP_test_df = pd.read_csv(\"Disease Prediction Testing.csv\")"
   ]
  },
  {
   "cell_type": "markdown",
   "metadata": {},
   "source": [
    "# Section1: Data Preparation"
   ]
  },
  {
   "cell_type": "markdown",
   "metadata": {},
   "source": [
    "## Potential data quality issue "
   ]
  },
  {
   "cell_type": "markdown",
   "metadata": {},
   "source": [
    "For some distance-based algorithms, normalization is required cause attributes in data set are in the same scale. Differece of unit impacts calculation of distance and makes it inaccurate.\n",
    "\n",
    "To apply classification algorithms, all of the attributes should be the same type. A combination of numerical and categorical attributes is not allowed.\n",
    "\n",
    "Missing value in the data set can also have a huge influence on the results.\n",
    "\n",
    "Unvalidated data points. The data set contains index of normal human body, so there is normal range for these critirion. We need to do a research on them and figure out normal range and remove unvalidate data point out of the range."
   ]
  },
  {
   "cell_type": "markdown",
   "metadata": {},
   "source": [
    "## Data preprocessing"
   ]
  },
  {
   "cell_type": "markdown",
   "metadata": {},
   "source": [
    "### Basic data cleaning"
   ]
  },
  {
   "cell_type": "code",
   "execution_count": 35,
   "metadata": {},
   "outputs": [],
   "source": [
    "#test missing value\n",
    "any(DP_train_df.isna().any())\n",
    "any(DP_test_df.isna().any())\n",
    "DP_train_df.dropna(inplace=True)\n",
    "DP_test_df.dropna(inplace=True)\n",
    "#remove duplicates()\n",
    "DP_train_df.drop_duplicates(inplace=True)\n",
    "DP_test_df.drop_duplicates(inplace=True)"
   ]
  },
  {
   "cell_type": "markdown",
   "metadata": {},
   "source": [
    "### Data validation"
   ]
  },
  {
   "cell_type": "code",
   "execution_count": 36,
   "metadata": {},
   "outputs": [],
   "source": [
    "#data validation remove outliers in Blood pressure\n",
    "DP_train_df = DP_train_df[80 <= DP_train_df['High Blood Pressure']]\n",
    "DP_train_df = DP_train_df[DP_train_df['High Blood Pressure'] <=200]\n",
    "DP_train_df = DP_train_df[DP_train_df['Low Blood Pressure'] <=130]\n",
    "DP_train_df = DP_train_df[DP_train_df['High Blood Pressure'] >= 40]"
   ]
  },
  {
   "cell_type": "markdown",
   "metadata": {},
   "source": [
    "### Data converstion"
   ]
  },
  {
   "cell_type": "markdown",
   "metadata": {},
   "source": [
    "Transform categorical attributes Glucose, Cholesterol, Gender into numeric by one-hot encoding."
   ]
  },
  {
   "cell_type": "code",
   "execution_count": 37,
   "metadata": {
    "scrolled": true
   },
   "outputs": [],
   "source": [
    "#transfrom categorical attributes to numeric using one-hot encoder\n",
    "#for naive bayes classifier\n",
    "df = pd.concat([DP_train_df, pd.get_dummies(DP_train_df['Gender']),\n",
    "                            pd.get_dummies(DP_train_df['Glucose'], prefix='Glucose'),\n",
    "                            pd.get_dummies(DP_train_df['Cholesterol'], prefix='Cholesterol')\n",
    "                            ], axis = 1)\n",
    "df.drop(['Gender','Glucose','Cholesterol'], axis = 1, inplace = True)"
   ]
  },
  {
   "cell_type": "markdown",
   "metadata": {},
   "source": [
    "### Train Test split"
   ]
  },
  {
   "cell_type": "code",
   "execution_count": 89,
   "metadata": {},
   "outputs": [],
   "source": [
    "DP_train_X = df.drop('Disease', axis=1)\n",
    "DP_train_Y = df['Disease']\n",
    "X_train, X_test, Y_train, Y_test = train_test_split(DP_train_X, DP_train_Y, test_size = 0.3)"
   ]
  },
  {
   "cell_type": "markdown",
   "metadata": {},
   "source": [
    "## Exploratory Data Analysis"
   ]
  },
  {
   "cell_type": "markdown",
   "metadata": {},
   "source": [
    "### High Blood Pressure among different gender"
   ]
  },
  {
   "cell_type": "code",
   "execution_count": 39,
   "metadata": {},
   "outputs": [
    {
     "data": {
      "image/png": "[encoded data removed]",
      "text/plain": [
       "<Figure size 432x288 with 1 Axes>"
      ]
     },
     "metadata": {
      "needs_background": "light"
     },
     "output_type": "display_data"
    }
   ],
   "source": [
    "ax = sns.boxplot(y='High Blood Pressure', x='Gender', \n",
    "                 data=DP_train_df, hue = 'Gender')\n",
    "plt.title(\"High Blood Pressure among different gender\")\n",
    "plt.show()"
   ]
  },
  {
   "cell_type": "markdown",
   "metadata": {},
   "source": [
    "### Disease vs. non-disease"
   ]
  },
  {
   "cell_type": "code",
   "execution_count": 40,
   "metadata": {},
   "outputs": [
    {
     "data": {
      "image/png": "[encoded data removed]",
      "text/plain": [
       "<Figure size 432x288 with 1 Axes>"
      ]
     },
     "metadata": {},
     "output_type": "display_data"
    }
   ],
   "source": [
    "disease_count = DP_train_df[DP_train_df['Disease']==1].count()[0]\n",
    "nondisease_count = DP_train_df[DP_train_df['Disease']==0].count()[0]\n",
    "plt.figure()\n",
    "plt.pie([disease_count,nondisease_count], labels=['disease','non_disease'])\n",
    "plt.title(\"disease vs. non-disease\")\n",
    "plt.show()"
   ]
  },
  {
   "cell_type": "markdown",
   "metadata": {},
   "source": [
    "# Section2:  Build, tune and evaluate various machine learning algorithms"
   ]
  },
  {
   "cell_type": "markdown",
   "metadata": {},
   "source": [
    "## Logistic Regression"
   ]
  },
  {
   "cell_type": "code",
   "execution_count": 41,
   "metadata": {},
   "outputs": [
    {
     "name": "stdout",
     "output_type": "stream",
     "text": [
      "Logistic regression Accuracy: \n",
      "73.06%\n"
     ]
    }
   ],
   "source": [
    "sc = StandardScaler()\n",
    "lr = LogisticRegression(solver='lbfgs', random_state=8)\n",
    "lr_pipe = make_pipeline(sc, lr)\n",
    "lr_pipe.fit(X_train, Y_train)\n",
    "lr_pred = lr_pipe.predict(X_test)\n",
    "print(f\"Logistic regression Accuracy: \\n{round(metrics.accuracy_score(Y_test, lr_pred)*100,2)}%\")"
   ]
  },
  {
   "cell_type": "markdown",
   "metadata": {},
   "source": [
    "## Hyperparameter tuning"
   ]
  },
  {
   "cell_type": "code",
   "execution_count": 46,
   "metadata": {},
   "outputs": [
    {
     "data": {
      "image/png": "[encoded data removed]",
      "text/plain": [
       "<Figure size 432x288 with 1 Axes>"
      ]
     },
     "metadata": {
      "needs_background": "light"
     },
     "output_type": "display_data"
    }
   ],
   "source": [
    "#manually tune C\n",
    "#initialize C\n",
    "cv = ShuffleSplit(n_splits=3,test_size=0.3,random_state=5)\n",
    "C = np.arange(0.1,1,0.1)\n",
    "accuracy_result_svm=[]\n",
    "#for each C, construct model and calculate accuracy\n",
    "for c in C:\n",
    "    lr=LogisticRegression(solver = 'lbfgs', C = c,random_state=8)\n",
    "    lr_pipe = make_pipeline(sc, lr)\n",
    "    lr_pipe.fit(X_train, Y_train)\n",
    "    #calculate cross validation score\n",
    "    acc = cross_val_score(lr_pipe, X_train, Y_train, cv=cv).mean()*100\n",
    "    accuracy_result_svm.append(acc)\n",
    "plt.plot(C, accuracy_result_svm, color='red', marker='o')\n",
    "plt.title('C sensitivity', fontsize=14)\n",
    "plt.xlabel('Cost', fontsize=14)\n",
    "plt.ylabel('Accuracy', fontsize=14)\n",
    "plt.show()"
   ]
  },
  {
   "cell_type": "code",
   "execution_count": 47,
   "metadata": {},
   "outputs": [
    {
     "name": "stdout",
     "output_type": "stream",
     "text": [
      "Logistic regression Accuracy after tuning: \n",
      "73.05%\n"
     ]
    }
   ],
   "source": [
    "sc = StandardScaler()\n",
    "lr = LogisticRegression(solver='lbfgs', random_state=8, C = 0.6)\n",
    "lr_pipe = make_pipeline(sc, lr)\n",
    "lr_pipe.fit(X_train, Y_train)\n",
    "lr_pred = lr_pipe.predict(X_test)\n",
    "print(f\"Logistic regression Accuracy after tuning: \\n{round(metrics.accuracy_score(Y_test, lr_pred)*100,2)}%\")"
   ]
  },
  {
   "cell_type": "markdown",
   "metadata": {},
   "source": [
    "## Feature Importance"
   ]
  },
  {
   "cell_type": "code",
   "execution_count": 99,
   "metadata": {},
   "outputs": [],
   "source": [
    "weights = lr_pipe.named_steps['logisticregression'].coef_.flatten()"
   ]
  },
  {
   "cell_type": "code",
   "execution_count": 98,
   "metadata": {},
   "outputs": [
    {
     "data": {
      "text/html": [
       "<div>\n",
       "<style scoped>\n",
       "    .dataframe tbody tr th:only-of-type {\n",
       "        vertical-align: middle;\n",
       "    }\n",
       "\n",
       "    .dataframe tbody tr th {\n",
       "        vertical-align: top;\n",
       "    }\n",
       "\n",
       "    .dataframe thead th {\n",
       "        text-align: right;\n",
       "    }\n",
       "</style>\n",
       "<table border=\"1\" class=\"dataframe\">\n",
       "  <thead>\n",
       "    <tr style=\"text-align: right;\">\n",
       "      <th></th>\n",
       "      <th>Features</th>\n",
       "      <th>weights</th>\n",
       "    </tr>\n",
       "  </thead>\n",
       "  <tbody>\n",
       "    <tr>\n",
       "      <th>0</th>\n",
       "      <td>Age</td>\n",
       "      <td>0.342125</td>\n",
       "    </tr>\n",
       "    <tr>\n",
       "      <th>1</th>\n",
       "      <td>Height</td>\n",
       "      <td>-0.020534</td>\n",
       "    </tr>\n",
       "    <tr>\n",
       "      <th>2</th>\n",
       "      <td>Weight</td>\n",
       "      <td>0.132242</td>\n",
       "    </tr>\n",
       "    <tr>\n",
       "      <th>3</th>\n",
       "      <td>High Blood Pressure</td>\n",
       "      <td>0.924167</td>\n",
       "    </tr>\n",
       "    <tr>\n",
       "      <th>4</th>\n",
       "      <td>Low Blood Pressure</td>\n",
       "      <td>0.120325</td>\n",
       "    </tr>\n",
       "    <tr>\n",
       "      <th>5</th>\n",
       "      <td>Smoke</td>\n",
       "      <td>-0.039315</td>\n",
       "    </tr>\n",
       "    <tr>\n",
       "      <th>6</th>\n",
       "      <td>Alcohol</td>\n",
       "      <td>-0.041354</td>\n",
       "    </tr>\n",
       "    <tr>\n",
       "      <th>7</th>\n",
       "      <td>Exercise</td>\n",
       "      <td>-0.076415</td>\n",
       "    </tr>\n",
       "    <tr>\n",
       "      <th>8</th>\n",
       "      <td>female</td>\n",
       "      <td>0.006627</td>\n",
       "    </tr>\n",
       "    <tr>\n",
       "      <th>9</th>\n",
       "      <td>male</td>\n",
       "      <td>-0.006627</td>\n",
       "    </tr>\n",
       "    <tr>\n",
       "      <th>10</th>\n",
       "      <td>Glucose_high</td>\n",
       "      <td>0.012360</td>\n",
       "    </tr>\n",
       "    <tr>\n",
       "      <th>11</th>\n",
       "      <td>Glucose_normal</td>\n",
       "      <td>0.031947</td>\n",
       "    </tr>\n",
       "    <tr>\n",
       "      <th>12</th>\n",
       "      <td>Glucose_too high</td>\n",
       "      <td>-0.055563</td>\n",
       "    </tr>\n",
       "    <tr>\n",
       "      <th>13</th>\n",
       "      <td>Cholesterol_high</td>\n",
       "      <td>0.005923</td>\n",
       "    </tr>\n",
       "    <tr>\n",
       "      <th>14</th>\n",
       "      <td>Cholesterol_normal</td>\n",
       "      <td>-0.168208</td>\n",
       "    </tr>\n",
       "    <tr>\n",
       "      <th>15</th>\n",
       "      <td>Cholesterol_too high</td>\n",
       "      <td>0.221985</td>\n",
       "    </tr>\n",
       "  </tbody>\n",
       "</table>\n",
       "</div>"
      ],
      "text/plain": [
       "                Features   weights\n",
       "0                    Age  0.342125\n",
       "1                 Height -0.020534\n",
       "2                 Weight  0.132242\n",
       "3    High Blood Pressure  0.924167\n",
       "4     Low Blood Pressure  0.120325\n",
       "5                  Smoke -0.039315\n",
       "6                Alcohol -0.041354\n",
       "7               Exercise -0.076415\n",
       "8                 female  0.006627\n",
       "9                   male -0.006627\n",
       "10          Glucose_high  0.012360\n",
       "11        Glucose_normal  0.031947\n",
       "12      Glucose_too high -0.055563\n",
       "13      Cholesterol_high  0.005923\n",
       "14    Cholesterol_normal -0.168208\n",
       "15  Cholesterol_too high  0.221985"
      ]
     },
     "execution_count": 98,
     "metadata": {},
     "output_type": "execute_result"
    }
   ],
   "source": [
    "lr_importance = pd.DataFrame(list(zip(X_train.columns, weights)),columns=['Features','weights'] )\n",
    "lr_importance"
   ]
  },
  {
   "cell_type": "markdown",
   "metadata": {},
   "source": [
    "## ANN"
   ]
  },
  {
   "cell_type": "code",
   "execution_count": 48,
   "metadata": {},
   "outputs": [],
   "source": [
    "X_train = sc.transform(X_train)\n",
    "X_test = sc.transform(X_test)"
   ]
  },
  {
   "cell_type": "code",
   "execution_count": 49,
   "metadata": {},
   "outputs": [
    {
     "name": "stdout",
     "output_type": "stream",
     "text": [
      "Epoch 1/10\n",
      "6487/6487 [==============================] - 3s 394us/step - loss: 0.5791 - accuracy: 0.7060\n",
      "Epoch 2/10\n",
      "6487/6487 [==============================] - 2s 382us/step - loss: 0.5547 - accuracy: 0.7266\n",
      "Epoch 3/10\n",
      "6487/6487 [==============================] - 2s 375us/step - loss: 0.5531 - accuracy: 0.7275\n",
      "Epoch 4/10\n",
      "6487/6487 [==============================] - 2s 383us/step - loss: 0.5519 - accuracy: 0.7267\n",
      "Epoch 5/10\n",
      "6487/6487 [==============================] - 3s 401us/step - loss: 0.5509 - accuracy: 0.7280\n",
      "Epoch 6/10\n",
      "6487/6487 [==============================] - 2s 375us/step - loss: 0.5504 - accuracy: 0.7280\n",
      "Epoch 7/10\n",
      "6487/6487 [==============================] - 2s 371us/step - loss: 0.5496 - accuracy: 0.7282\n",
      "Epoch 8/10\n",
      "6487/6487 [==============================] - 2s 371us/step - loss: 0.5496 - accuracy: 0.7299\n",
      "Epoch 9/10\n",
      "6487/6487 [==============================] - 2s 372us/step - loss: 0.5490 - accuracy: 0.7303\n",
      "Epoch 10/10\n",
      "6487/6487 [==============================] - 2s 375us/step - loss: 0.5489 - accuracy: 0.7301\n"
     ]
    },
    {
     "data": {
      "text/plain": [
       "<tensorflow.python.keras.callbacks.History at 0x7fd1cccac280>"
      ]
     },
     "execution_count": 49,
     "metadata": {},
     "output_type": "execute_result"
    }
   ],
   "source": [
    "#ANN 0\n",
    "ANN_0 = Sequential()\n",
    "ANN_0.add(Dense(6, activation='relu'))\n",
    "ANN_0.add(Dense(1, activation='sigmoid'))\n",
    "ANN_0.compile(loss='binary_crossentropy', optimizer='sgd', metrics=['accuracy'])\n",
    "ANN_0.fit(X_train, Y_train, epochs=10, batch_size=5, verbose=1)"
   ]
  },
  {
   "cell_type": "code",
   "execution_count": 50,
   "metadata": {},
   "outputs": [
    {
     "name": "stdout",
     "output_type": "stream",
     "text": [
      "Epoch 1/10\n",
      "32435/32435 [==============================] - 12s 371us/step - loss: 0.5626 - accuracy: 0.7201\n",
      "Epoch 2/10\n",
      "32435/32435 [==============================] - 12s 363us/step - loss: 0.5514 - accuracy: 0.7276\n",
      "Epoch 3/10\n",
      "32435/32435 [==============================] - 12s 355us/step - loss: 0.5497 - accuracy: 0.7284\n",
      "Epoch 4/10\n",
      "32435/32435 [==============================] - 12s 384us/step - loss: 0.5500 - accuracy: 0.7274\n",
      "Epoch 5/10\n",
      "32435/32435 [==============================] - 13s 387us/step - loss: 0.5506 - accuracy: 0.7285\n",
      "Epoch 6/10\n",
      "32435/32435 [==============================] - 12s 357us/step - loss: 0.5493 - accuracy: 0.7293\n",
      "Epoch 7/10\n",
      "32435/32435 [==============================] - 12s 355us/step - loss: 0.5493 - accuracy: 0.7294\n",
      "Epoch 8/10\n",
      "32435/32435 [==============================] - 11s 354us/step - loss: 0.5489 - accuracy: 0.7289\n",
      "Epoch 9/10\n",
      "32435/32435 [==============================] - 12s 356us/step - loss: 0.5488 - accuracy: 0.7291\n",
      "Epoch 10/10\n",
      "32435/32435 [==============================] - 11s 354us/step - loss: 0.5487 - accuracy: 0.7308\n"
     ]
    },
    {
     "data": {
      "text/plain": [
       "<tensorflow.python.keras.callbacks.History at 0x7fd1cf5927c0>"
      ]
     },
     "execution_count": 50,
     "metadata": {},
     "output_type": "execute_result"
    }
   ],
   "source": [
    "#ANN 1\n",
    "ANN_1 = Sequential()\n",
    "ANN_1.add(Dense(6, activation='relu', input_shape=(16, )))\n",
    "ANN_1.add(Dense(6, activation='relu'))\n",
    "ANN_1.add(Dense(1, activation='sigmoid'))\n",
    "ANN_1.compile(loss='binary_crossentropy', optimizer='sgd', metrics=['accuracy'])\n",
    "ANN_1.fit(X_train, Y_train, epochs=10, batch_size=5, verbose=1)"
   ]
  },
  {
   "cell_type": "code",
   "execution_count": 51,
   "metadata": {},
   "outputs": [
    {
     "name": "stdout",
     "output_type": "stream",
     "text": [
      "Epoch 1/10\n",
      "32435/32435 [==============================] - 12s 380us/step - loss: 0.5625 - accuracy: 0.7211\n",
      "Epoch 2/10\n",
      "32435/32435 [==============================] - 12s 378us/step - loss: 0.5541 - accuracy: 0.7279\n",
      "Epoch 3/10\n",
      "32435/32435 [==============================] - 12s 378us/step - loss: 0.5520 - accuracy: 0.7272\n",
      "Epoch 4/10\n",
      "32435/32435 [==============================] - 13s 400us/step - loss: 0.5511 - accuracy: 0.7292\n",
      "Epoch 5/10\n",
      "32435/32435 [==============================] - 13s 398us/step - loss: 0.5503 - accuracy: 0.7283\n",
      "Epoch 6/10\n",
      "32435/32435 [==============================] - 13s 390us/step - loss: 0.5495 - accuracy: 0.7297\n",
      "Epoch 7/10\n",
      "32435/32435 [==============================] - 13s 411us/step - loss: 0.5499 - accuracy: 0.7291\n",
      "Epoch 8/10\n",
      "32435/32435 [==============================] - 13s 410us/step - loss: 0.5495 - accuracy: 0.7303\n",
      "Epoch 9/10\n",
      "32435/32435 [==============================] - 13s 406us/step - loss: 0.5492 - accuracy: 0.7280\n",
      "Epoch 10/10\n",
      "32435/32435 [==============================] - 13s 402us/step - loss: 0.5484 - accuracy: 0.7305\n"
     ]
    },
    {
     "data": {
      "text/plain": [
       "<tensorflow.python.keras.callbacks.History at 0x7fd1cc6f4070>"
      ]
     },
     "execution_count": 51,
     "metadata": {},
     "output_type": "execute_result"
    }
   ],
   "source": [
    "#ANN 2\n",
    "ANN_2 = Sequential()\n",
    "ANN_2.add(Dense(6, activation='relu', input_shape=(16, )))\n",
    "ANN_2.add(Dense(6, activation='relu'))\n",
    "ANN_2.add(Dense(6, activation='relu'))\n",
    "ANN_2.add(Dense(6, activation='relu'))\n",
    "ANN_2.add(Dense(1, activation='sigmoid'))\n",
    "ANN_2.compile(loss='binary_crossentropy', optimizer='sgd', metrics=['accuracy'])\n",
    "ANN_2.fit(X_train, Y_train, epochs=10, batch_size=5, verbose=1)"
   ]
  },
  {
   "cell_type": "markdown",
   "metadata": {},
   "source": [
    "## Hyperparameter tuning for ANN with 0 hidden node"
   ]
  },
  {
   "cell_type": "code",
   "execution_count": 52,
   "metadata": {},
   "outputs": [],
   "source": [
    "#0 hidden layer hyperparameter tuning\n",
    "def build_model_0(hp):\n",
    "    model = keras.Sequential()\n",
    "    model.add(layers.Dense(1, activation='sigmoid'))\n",
    "    model.compile(\n",
    "        optimizer=keras.optimizers.Adam(\n",
    "            hp.Choice('learning_rate',\n",
    "                      values=[1e-2, 1e-3, 1e-4])),\n",
    "        loss='binary_crossentropy',\n",
    "        metrics=['accuracy'])\n",
    "    return model"
   ]
  },
  {
   "cell_type": "code",
   "execution_count": 53,
   "metadata": {},
   "outputs": [
    {
     "name": "stdout",
     "output_type": "stream",
     "text": [
      "INFO:tensorflow:Reloading Oracle from existing project my_dir/0-hidden-layer-tuning/oracle.json\n",
      "INFO:tensorflow:Reloading Tuner from my_dir/0-hidden-layer-tuning/tuner0.json\n"
     ]
    }
   ],
   "source": [
    "from tensorflow import keras\n",
    "from tensorflow.keras import layers\n",
    "from kerastuner.tuners import RandomSearch\n",
    "tuner_0 = RandomSearch(\n",
    "    build_model_0,\n",
    "    objective='val_accuracy',\n",
    "    max_trials=5,\n",
    "    executions_per_trial=1,    \n",
    "    directory='my_dir',\n",
    "    project_name='0-hidden-layer-tuning')"
   ]
  },
  {
   "cell_type": "code",
   "execution_count": 54,
   "metadata": {},
   "outputs": [
    {
     "name": "stdout",
     "output_type": "stream",
     "text": [
      "INFO:tensorflow:Oracle triggered exit\n"
     ]
    }
   ],
   "source": [
    "tuner_0.search(X_train, Y_train,\n",
    "             epochs=5,\n",
    "             validation_data=(X_test, Y_test))"
   ]
  },
  {
   "cell_type": "code",
   "execution_count": 55,
   "metadata": {},
   "outputs": [],
   "source": [
    "best_hp_0 = tuner_0.get_best_hyperparameters()[0]\n",
    "ANN_0 = tuner_0.hypermodel.build(best_hp_0)"
   ]
  },
  {
   "cell_type": "code",
   "execution_count": 56,
   "metadata": {},
   "outputs": [
    {
     "name": "stdout",
     "output_type": "stream",
     "text": [
      "Results summary\n",
      "Results in my_dir/0-hidden-layer-tuning\n",
      "Showing 10 best trials\n",
      "Objective(name='val_accuracy', direction='max')\n",
      "Trial summary\n",
      "Hyperparameters:\n",
      "learning_rate: 0.001\n",
      "Score: 0.7253435254096985\n",
      "Trial summary\n",
      "Hyperparameters:\n",
      "learning_rate: 0.0001\n",
      "Score: 0.6914610266685486\n"
     ]
    }
   ],
   "source": [
    "tuner_0.results_summary()"
   ]
  },
  {
   "cell_type": "markdown",
   "metadata": {},
   "source": [
    "## Hyperparameter tuning for ANN with 1 hidden node"
   ]
  },
  {
   "cell_type": "code",
   "execution_count": 57,
   "metadata": {},
   "outputs": [],
   "source": [
    "#single layer hyperparameter tuning\n",
    "def build_model_1(hp):\n",
    "    model = keras.Sequential()\n",
    "    model.add(layers.Dense(units=hp.Int('units',\n",
    "                                        min_value=2,\n",
    "                                        max_value=32,\n",
    "                                        step=2),\n",
    "                           activation=hp.Choice('activation',values = ['sigmoid','softmax','relu'])))\n",
    "    model.add(layers.Dense(1, activation='sigmoid'))\n",
    "    model.compile(\n",
    "        optimizer=keras.optimizers.Adam(\n",
    "            hp.Choice('learning_rate',\n",
    "                      values=[1e-2, 1e-3, 1e-4])),\n",
    "        loss='binary_crossentropy',\n",
    "        metrics=['accuracy'])\n",
    "    return model"
   ]
  },
  {
   "cell_type": "code",
   "execution_count": 64,
   "metadata": {},
   "outputs": [],
   "source": [
    "tuner_1 = RandomSearch(\n",
    "    build_model_1,\n",
    "    objective='val_accuracy',\n",
    "    max_trials=5,\n",
    "    executions_per_trial=1,\n",
    "    directory='my_dir',\n",
    "    project_name='1-hidden layer tuning')"
   ]
  },
  {
   "cell_type": "code",
   "execution_count": 65,
   "metadata": {},
   "outputs": [
    {
     "name": "stdout",
     "output_type": "stream",
     "text": [
      "\n",
      "Search: Running Trial #1\n",
      "\n",
      "Hyperparameter    |Value             |Best Value So Far \n",
      "units             |22                |?                 \n",
      "activation        |sigmoid           |?                 \n",
      "learning_rate     |0.0001            |?                 \n",
      "\n",
      "Epoch 1/5\n",
      "1014/1014 [==============================] - 1s 701us/step - loss: 0.6643 - accuracy: 0.6137 - val_loss: 0.6364 - val_accuracy: 0.6734\n",
      "Epoch 2/5\n",
      "1014/1014 [==============================] - 1s 643us/step - loss: 0.6205 - accuracy: 0.6861 - val_loss: 0.6012 - val_accuracy: 0.7041\n",
      "Epoch 3/5\n",
      "1014/1014 [==============================] - 1s 626us/step - loss: 0.5939 - accuracy: 0.7052 - val_loss: 0.5799 - val_accuracy: 0.7156\n",
      "Epoch 4/5\n",
      "1014/1014 [==============================] - 1s 630us/step - loss: 0.5783 - accuracy: 0.7127 - val_loss: 0.5677 - val_accuracy: 0.7219\n",
      "Epoch 5/5\n",
      "1014/1014 [==============================] - 1s 654us/step - loss: 0.5697 - accuracy: 0.7162 - val_loss: 0.5606 - val_accuracy: 0.7256\n",
      "\n",
      "Trial 1 Complete [00h 00m 03s]\n",
      "val_accuracy: 0.7255592942237854\n",
      "\n",
      "Best val_accuracy So Far: 0.7255592942237854\n",
      "Total elapsed time: 00h 00m 03s\n",
      "\n",
      "Search: Running Trial #2\n",
      "\n",
      "Hyperparameter    |Value             |Best Value So Far \n",
      "units             |22                |22                \n",
      "activation        |sigmoid           |sigmoid           \n",
      "learning_rate     |0.001             |0.0001            \n",
      "\n",
      "Epoch 1/5\n",
      "1014/1014 [==============================] - 1s 708us/step - loss: 0.5791 - accuracy: 0.7076 - val_loss: 0.5510 - val_accuracy: 0.7310\n",
      "Epoch 2/5\n",
      "1014/1014 [==============================] - 1s 708us/step - loss: 0.5566 - accuracy: 0.7250 - val_loss: 0.5483 - val_accuracy: 0.7317\n",
      "Epoch 3/5\n",
      "1014/1014 [==============================] - 1s 637us/step - loss: 0.5548 - accuracy: 0.7266 - val_loss: 0.5462 - val_accuracy: 0.7322\n",
      "Epoch 4/5\n",
      "1014/1014 [==============================] - 1s 629us/step - loss: 0.5535 - accuracy: 0.7279 - val_loss: 0.5459 - val_accuracy: 0.7325\n",
      "Epoch 5/5\n",
      "1014/1014 [==============================] - 1s 644us/step - loss: 0.5528 - accuracy: 0.7291 - val_loss: 0.5445 - val_accuracy: 0.7334\n",
      "\n",
      "Trial 2 Complete [00h 00m 03s]\n",
      "val_accuracy: 0.7334004640579224\n",
      "\n",
      "Best val_accuracy So Far: 0.7334004640579224\n",
      "Total elapsed time: 00h 00m 07s\n",
      "\n",
      "Search: Running Trial #3\n",
      "\n",
      "Hyperparameter    |Value             |Best Value So Far \n",
      "units             |8                 |22                \n",
      "activation        |relu              |sigmoid           \n",
      "learning_rate     |0.0001            |0.001             \n",
      "\n",
      "Epoch 1/5\n",
      "1014/1014 [==============================] - 1s 734us/step - loss: 0.7560 - accuracy: 0.5319 - val_loss: 0.6993 - val_accuracy: 0.5819\n",
      "Epoch 2/5\n",
      "1014/1014 [==============================] - 1s 625us/step - loss: 0.6743 - accuracy: 0.6156 - val_loss: 0.6451 - val_accuracy: 0.6479\n",
      "Epoch 3/5\n",
      "1014/1014 [==============================] - 1s 622us/step - loss: 0.6333 - accuracy: 0.6630 - val_loss: 0.6142 - val_accuracy: 0.6766\n",
      "Epoch 4/5\n",
      "1014/1014 [==============================] - 1s 636us/step - loss: 0.6092 - accuracy: 0.6863 - val_loss: 0.5948 - val_accuracy: 0.6999\n",
      "Epoch 5/5\n",
      "1014/1014 [==============================] - 1s 636us/step - loss: 0.5939 - accuracy: 0.7019 - val_loss: 0.5826 - val_accuracy: 0.7099\n",
      "\n",
      "Trial 3 Complete [00h 00m 03s]\n",
      "val_accuracy: 0.7099488973617554\n",
      "\n",
      "Best val_accuracy So Far: 0.7334004640579224\n",
      "Total elapsed time: 00h 00m 11s\n",
      "\n",
      "Search: Running Trial #4\n",
      "\n",
      "Hyperparameter    |Value             |Best Value So Far \n",
      "units             |22                |22                \n",
      "activation        |softmax           |sigmoid           \n",
      "learning_rate     |0.0001            |0.001             \n",
      "\n",
      "Epoch 1/5\n",
      "1014/1014 [==============================] - 1s 757us/step - loss: 0.6833 - accuracy: 0.5424 - val_loss: 0.6754 - val_accuracy: 0.6174\n",
      "Epoch 2/5\n",
      "1014/1014 [==============================] - 1s 633us/step - loss: 0.6663 - accuracy: 0.6676 - val_loss: 0.6582 - val_accuracy: 0.6957\n",
      "Epoch 3/5\n",
      "1014/1014 [==============================] - 1s 645us/step - loss: 0.6506 - accuracy: 0.7012 - val_loss: 0.6426 - val_accuracy: 0.7115\n",
      "Epoch 4/5\n",
      "1014/1014 [==============================] - 1s 660us/step - loss: 0.6365 - accuracy: 0.7105 - val_loss: 0.6288 - val_accuracy: 0.7164\n",
      "Epoch 5/5\n",
      "1014/1014 [==============================] - 1s 684us/step - loss: 0.6240 - accuracy: 0.7138 - val_loss: 0.6167 - val_accuracy: 0.7197\n",
      "\n",
      "Trial 4 Complete [00h 00m 03s]\n",
      "val_accuracy: 0.719732403755188\n",
      "\n",
      "Best val_accuracy So Far: 0.7334004640579224\n",
      "Total elapsed time: 00h 00m 15s\n",
      "\n",
      "Search: Running Trial #5\n",
      "\n",
      "Hyperparameter    |Value             |Best Value So Far \n",
      "units             |30                |22                \n",
      "activation        |softmax           |sigmoid           \n",
      "learning_rate     |0.01              |0.001             \n",
      "\n",
      "Epoch 1/5\n",
      "1014/1014 [==============================] - 1s 771us/step - loss: 0.5596 - accuracy: 0.7251 - val_loss: 0.5390 - val_accuracy: 0.7354\n",
      "Epoch 2/5\n",
      "1014/1014 [==============================] - 1s 689us/step - loss: 0.5466 - accuracy: 0.7292 - val_loss: 0.5374 - val_accuracy: 0.7372\n",
      "Epoch 3/5\n",
      "1014/1014 [==============================] - 1s 684us/step - loss: 0.5459 - accuracy: 0.7295 - val_loss: 0.5385 - val_accuracy: 0.7355\n",
      "Epoch 4/5\n",
      "1014/1014 [==============================] - 1s 686us/step - loss: 0.5448 - accuracy: 0.7316 - val_loss: 0.5399 - val_accuracy: 0.7333\n",
      "Epoch 5/5\n",
      "1014/1014 [==============================] - 1s 714us/step - loss: 0.5442 - accuracy: 0.7334 - val_loss: 0.5382 - val_accuracy: 0.7367\n",
      "\n",
      "Trial 5 Complete [00h 00m 04s]\n",
      "val_accuracy: 0.737213134765625\n",
      "\n",
      "Best val_accuracy So Far: 0.737213134765625\n",
      "Total elapsed time: 00h 00m 19s\n",
      "INFO:tensorflow:Oracle triggered exit\n"
     ]
    }
   ],
   "source": [
    "tuner_1.search(X_train, Y_train,\n",
    "             epochs=5,\n",
    "             validation_data=(X_test, Y_test))"
   ]
  },
  {
   "cell_type": "code",
   "execution_count": 66,
   "metadata": {},
   "outputs": [],
   "source": [
    "best_hp_1 = tuner_1.get_best_hyperparameters()[0]\n",
    "ANN_1 = tuner_1.hypermodel.build(best_hp_1)"
   ]
  },
  {
   "cell_type": "code",
   "execution_count": 67,
   "metadata": {},
   "outputs": [
    {
     "name": "stdout",
     "output_type": "stream",
     "text": [
      "Results summary\n",
      "Results in my_dir/1-hidden layer tuning\n",
      "Showing 10 best trials\n",
      "Objective(name='val_accuracy', direction='max')\n",
      "Trial summary\n",
      "Hyperparameters:\n",
      "units: 30\n",
      "activation: softmax\n",
      "learning_rate: 0.01\n",
      "Score: 0.737213134765625\n",
      "Trial summary\n",
      "Hyperparameters:\n",
      "units: 22\n",
      "activation: sigmoid\n",
      "learning_rate: 0.001\n",
      "Score: 0.7334004640579224\n",
      "Trial summary\n",
      "Hyperparameters:\n",
      "units: 22\n",
      "activation: sigmoid\n",
      "learning_rate: 0.0001\n",
      "Score: 0.7255592942237854\n",
      "Trial summary\n",
      "Hyperparameters:\n",
      "units: 22\n",
      "activation: softmax\n",
      "learning_rate: 0.0001\n",
      "Score: 0.719732403755188\n",
      "Trial summary\n",
      "Hyperparameters:\n",
      "units: 8\n",
      "activation: relu\n",
      "learning_rate: 0.0001\n",
      "Score: 0.7099488973617554\n"
     ]
    }
   ],
   "source": [
    "tuner_1.results_summary()"
   ]
  },
  {
   "cell_type": "markdown",
   "metadata": {},
   "source": [
    "## Hyperparameter with 2 hidden layers"
   ]
  },
  {
   "cell_type": "code",
   "execution_count": 68,
   "metadata": {},
   "outputs": [],
   "source": [
    "#2 layer hyperparameter tuning\n",
    "def build_model_2(hp):\n",
    "    model = keras.Sequential()\n",
    "    model.add(layers.Dense(units = hp.Int('units',\n",
    "                                        min_value=2,\n",
    "                                        max_value=32,\n",
    "                                        step=2),\n",
    "                           activation = hp.Choice('activation',values = ['sigmoid','softmax','relu'])))\n",
    "    model.add(layers.Dense(units = hp.Int('units',\n",
    "                                        min_value=2,\n",
    "                                        max_value=32,\n",
    "                                        step=2),\n",
    "                           activation = hp.Choice('activation',values = ['sigmoid','softmax','relu'])))\n",
    "    model.add(layers.Dense(1, activation = 'sigmoid'))\n",
    "    model.compile(\n",
    "        optimizer=keras.optimizers.Adam(\n",
    "            hp.Choice('learning_rate',\n",
    "                      values=[1e-2, 1e-3, 1e-4])),\n",
    "        loss='binary_crossentropy',\n",
    "        metrics=['accuracy'])\n",
    "    return model"
   ]
  },
  {
   "cell_type": "code",
   "execution_count": 69,
   "metadata": {},
   "outputs": [],
   "source": [
    "tuner_2 = RandomSearch(\n",
    "    build_model_2,\n",
    "    objective='val_accuracy',\n",
    "    max_trials=5,\n",
    "    executions_per_trial=1,\n",
    "    directory='my_dir',\n",
    "    project_name='2-hidden layer tuning')"
   ]
  },
  {
   "cell_type": "code",
   "execution_count": 70,
   "metadata": {},
   "outputs": [
    {
     "name": "stdout",
     "output_type": "stream",
     "text": [
      "\n",
      "Search: Running Trial #1\n",
      "\n",
      "Hyperparameter    |Value             |Best Value So Far \n",
      "units             |24                |?                 \n",
      "activation        |sigmoid           |?                 \n",
      "learning_rate     |0.0001            |?                 \n",
      "\n",
      "Epoch 1/5\n",
      "1014/1014 [==============================] - 1s 773us/step - loss: 0.6790 - accuracy: 0.5961 - val_loss: 0.6553 - val_accuracy: 0.6790\n",
      "Epoch 2/5\n",
      "1014/1014 [==============================] - 1s 720us/step - loss: 0.6332 - accuracy: 0.6929 - val_loss: 0.6088 - val_accuracy: 0.7102\n",
      "Epoch 3/5\n",
      "1014/1014 [==============================] - 1s 708us/step - loss: 0.5945 - accuracy: 0.7102 - val_loss: 0.5770 - val_accuracy: 0.7214\n",
      "Epoch 4/5\n",
      "1014/1014 [==============================] - 1s 684us/step - loss: 0.5737 - accuracy: 0.7173 - val_loss: 0.5628 - val_accuracy: 0.7260\n",
      "Epoch 5/5\n",
      "1014/1014 [==============================] - 1s 703us/step - loss: 0.5650 - accuracy: 0.7211 - val_loss: 0.5565 - val_accuracy: 0.7277\n",
      "\n",
      "Trial 1 Complete [00h 00m 04s]\n",
      "val_accuracy: 0.7277174592018127\n",
      "\n",
      "Best val_accuracy So Far: 0.7277174592018127\n",
      "Total elapsed time: 00h 00m 04s\n",
      "\n",
      "Search: Running Trial #2\n",
      "\n",
      "Hyperparameter    |Value             |Best Value So Far \n",
      "units             |8                 |24                \n",
      "activation        |softmax           |sigmoid           \n",
      "learning_rate     |0.001             |0.0001            \n",
      "\n",
      "Epoch 1/5\n",
      "1014/1014 [==============================] - 1s 766us/step - loss: 0.6468 - accuracy: 0.6623 - val_loss: 0.5844 - val_accuracy: 0.7287\n",
      "Epoch 2/5\n",
      "1014/1014 [==============================] - 1s 663us/step - loss: 0.5691 - accuracy: 0.7259 - val_loss: 0.5536 - val_accuracy: 0.7328\n",
      "Epoch 3/5\n",
      "1014/1014 [==============================] - 1s 667us/step - loss: 0.5563 - accuracy: 0.7295 - val_loss: 0.5464 - val_accuracy: 0.7361\n",
      "Epoch 4/5\n",
      "1014/1014 [==============================] - 1s 665us/step - loss: 0.5515 - accuracy: 0.7294 - val_loss: 0.5428 - val_accuracy: 0.7373\n",
      "Epoch 5/5\n",
      "1014/1014 [==============================] - 1s 667us/step - loss: 0.5489 - accuracy: 0.7312 - val_loss: 0.5416 - val_accuracy: 0.7369\n",
      "\n",
      "Trial 2 Complete [00h 00m 03s]\n",
      "val_accuracy: 0.7372850775718689\n",
      "\n",
      "Best val_accuracy So Far: 0.7372850775718689\n",
      "Total elapsed time: 00h 00m 08s\n",
      "\n",
      "Search: Running Trial #3\n",
      "\n",
      "Hyperparameter    |Value             |Best Value So Far \n",
      "units             |16                |8                 \n",
      "activation        |sigmoid           |softmax           \n",
      "learning_rate     |0.0001            |0.001             \n",
      "\n",
      "Epoch 1/5\n",
      "1014/1014 [==============================] - 1s 742us/step - loss: 0.6791 - accuracy: 0.5932 - val_loss: 0.6618 - val_accuracy: 0.6808\n",
      "Epoch 2/5\n",
      "1014/1014 [==============================] - 1s 651us/step - loss: 0.6446 - accuracy: 0.6852 - val_loss: 0.6243 - val_accuracy: 0.7042\n",
      "Epoch 3/5\n",
      "1014/1014 [==============================] - 1s 651us/step - loss: 0.6098 - accuracy: 0.7024 - val_loss: 0.5919 - val_accuracy: 0.7135\n",
      "Epoch 4/5\n",
      "1014/1014 [==============================] - 1s 686us/step - loss: 0.5845 - accuracy: 0.7116 - val_loss: 0.5716 - val_accuracy: 0.7214\n",
      "Epoch 5/5\n",
      "1014/1014 [==============================] - 1s 658us/step - loss: 0.5703 - accuracy: 0.7165 - val_loss: 0.5616 - val_accuracy: 0.7243\n",
      "\n",
      "Trial 3 Complete [00h 00m 03s]\n",
      "val_accuracy: 0.7243363857269287\n",
      "\n",
      "Best val_accuracy So Far: 0.7372850775718689\n",
      "Total elapsed time: 00h 00m 11s\n",
      "\n",
      "Search: Running Trial #4\n",
      "\n",
      "Hyperparameter    |Value             |Best Value So Far \n",
      "units             |20                |8                 \n",
      "activation        |softmax           |softmax           \n",
      "learning_rate     |0.0001            |0.001             \n",
      "\n",
      "Epoch 1/5\n",
      "1014/1014 [==============================] - 1s 757us/step - loss: 0.6918 - accuracy: 0.5516 - val_loss: 0.6902 - val_accuracy: 0.6874\n",
      "Epoch 2/5\n",
      "1014/1014 [==============================] - 1s 680us/step - loss: 0.6880 - accuracy: 0.6858 - val_loss: 0.6851 - val_accuracy: 0.7158\n",
      "Epoch 3/5\n",
      "1014/1014 [==============================] - 1s 673us/step - loss: 0.6818 - accuracy: 0.7108 - val_loss: 0.6777 - val_accuracy: 0.7180\n",
      "Epoch 4/5\n",
      "1014/1014 [==============================] - 1s 678us/step - loss: 0.6733 - accuracy: 0.7149 - val_loss: 0.6679 - val_accuracy: 0.7196\n",
      "Epoch 5/5\n",
      "1014/1014 [==============================] - 1s 686us/step - loss: 0.6628 - accuracy: 0.7163 - val_loss: 0.6564 - val_accuracy: 0.7236\n",
      "\n",
      "Trial 4 Complete [00h 00m 03s]\n",
      "val_accuracy: 0.7236170172691345\n",
      "\n",
      "Best val_accuracy So Far: 0.7372850775718689\n",
      "Total elapsed time: 00h 00m 15s\n",
      "\n",
      "Search: Running Trial #5\n",
      "\n",
      "Hyperparameter    |Value             |Best Value So Far \n",
      "units             |32                |8                 \n",
      "activation        |softmax           |softmax           \n",
      "learning_rate     |0.01              |0.001             \n",
      "\n",
      "Epoch 1/5\n",
      "1014/1014 [==============================] - 1s 807us/step - loss: 0.5680 - accuracy: 0.7170 - val_loss: 0.5434 - val_accuracy: 0.7326\n",
      "Epoch 2/5\n",
      "1014/1014 [==============================] - 1s 741us/step - loss: 0.5481 - accuracy: 0.7286 - val_loss: 0.5404 - val_accuracy: 0.7351\n",
      "Epoch 3/5\n",
      "1014/1014 [==============================] - 1s 743us/step - loss: 0.5466 - accuracy: 0.7304 - val_loss: 0.5396 - val_accuracy: 0.7353\n",
      "Epoch 4/5\n",
      "1014/1014 [==============================] - 1s 723us/step - loss: 0.5456 - accuracy: 0.7318 - val_loss: 0.5392 - val_accuracy: 0.7335\n",
      "Epoch 5/5\n",
      "1014/1014 [==============================] - 1s 731us/step - loss: 0.5449 - accuracy: 0.7330 - val_loss: 0.5429 - val_accuracy: 0.7294\n",
      "\n",
      "Trial 5 Complete [00h 00m 04s]\n",
      "val_accuracy: 0.7352708578109741\n",
      "\n",
      "Best val_accuracy So Far: 0.7372850775718689\n",
      "Total elapsed time: 00h 00m 20s\n",
      "INFO:tensorflow:Oracle triggered exit\n"
     ]
    }
   ],
   "source": [
    "tuner_2.search(X_train, Y_train,\n",
    "             epochs=5,\n",
    "             validation_data=(X_test, Y_test))"
   ]
  },
  {
   "cell_type": "code",
   "execution_count": 72,
   "metadata": {},
   "outputs": [],
   "source": [
    "best_hp_2 = tuner_2.get_best_hyperparameters()[0]\n",
    "ANN_2 = tuner_2.hypermodel.build(best_hp_2)"
   ]
  },
  {
   "cell_type": "code",
   "execution_count": 102,
   "metadata": {},
   "outputs": [
    {
     "name": "stdout",
     "output_type": "stream",
     "text": [
      "AUC score: \n",
      " 0.5444744786780609\n"
     ]
    },
    {
     "data": {
      "image/png": "[encoded data removed]",
      "text/plain": [
       "<Figure size 504x504 with 1 Axes>"
      ]
     },
     "metadata": {
      "needs_background": "light"
     },
     "output_type": "display_data"
    }
   ],
   "source": [
    "from sklearn.metrics import roc_curve, roc_auc_score\n",
    "#predict the probability of the data points belongs to each class\n",
    "ann_prob = ANN_2.predict_proba(sc.transform(X_test)).flatten()\n",
    "#calculate false positve, true positive rate,\n",
    "#known that roc curve is TP vs. FP\n",
    "FP_rate, TP_rate, threshold = roc_curve(Y_test, ann_prob)\n",
    "print(\"AUC score: \\n\" ,roc_auc_score(Y_test, ann_prob))\n",
    "#plot roc curve\n",
    "plt.subplots(1,figsize=(7,7))\n",
    "plt.title(\"ROC Curve \")\n",
    "plt.plot(FP_rate, TP_rate, marker='.')\n",
    "plt.xlabel(\"True Positive Rate\")\n",
    "plt.ylabel(\"False Positive Rate\")\n",
    "plt.show()"
   ]
  },
  {
   "cell_type": "code",
   "execution_count": 73,
   "metadata": {},
   "outputs": [
    {
     "name": "stdout",
     "output_type": "stream",
     "text": [
      "Results summary\n",
      "Results in my_dir/2-hidden layer tuning\n",
      "Showing 10 best trials\n",
      "Objective(name='val_accuracy', direction='max')\n",
      "Trial summary\n",
      "Hyperparameters:\n",
      "units: 8\n",
      "activation: softmax\n",
      "learning_rate: 0.001\n",
      "Score: 0.7372850775718689\n",
      "Trial summary\n",
      "Hyperparameters:\n",
      "units: 32\n",
      "activation: softmax\n",
      "learning_rate: 0.01\n",
      "Score: 0.7352708578109741\n",
      "Trial summary\n",
      "Hyperparameters:\n",
      "units: 24\n",
      "activation: sigmoid\n",
      "learning_rate: 0.0001\n",
      "Score: 0.7277174592018127\n",
      "Trial summary\n",
      "Hyperparameters:\n",
      "units: 16\n",
      "activation: sigmoid\n",
      "learning_rate: 0.0001\n",
      "Score: 0.7243363857269287\n",
      "Trial summary\n",
      "Hyperparameters:\n",
      "units: 20\n",
      "activation: softmax\n",
      "learning_rate: 0.0001\n",
      "Score: 0.7236170172691345\n"
     ]
    }
   ],
   "source": [
    "tuner_2.results_summary()"
   ]
  },
  {
   "cell_type": "markdown",
   "metadata": {},
   "source": [
    "# Section3: Combination and Comparison of Multiple Machine Learning Algorithms "
   ]
  },
  {
   "cell_type": "markdown",
   "metadata": {},
   "source": [
    "## Decision Tree"
   ]
  },
  {
   "cell_type": "code",
   "execution_count": 74,
   "metadata": {},
   "outputs": [
    {
     "name": "stdout",
     "output_type": "stream",
     "text": [
      "Accuracy before hyperparameter tuning:63.0%\n"
     ]
    }
   ],
   "source": [
    "clf = DecisionTreeClassifier()\n",
    "clf.fit(X_train, Y_train)\n",
    "Y_pred = clf.predict(X_test)\n",
    "print(f\"Accuracy before hyperparameter tuning:{round(metrics.accuracy_score(Y_test,Y_pred)*100)}%\")"
   ]
  },
  {
   "cell_type": "markdown",
   "metadata": {},
   "source": [
    "## Hyperparameter tuning"
   ]
  },
  {
   "cell_type": "code",
   "execution_count": 75,
   "metadata": {},
   "outputs": [
    {
     "name": "stdout",
     "output_type": "stream",
     "text": [
      "Accuracy after hyperparameter tuning:73.0%\n"
     ]
    }
   ],
   "source": [
    "#condunct a hyperparameter tuning\n",
    "param_grid = {'criterion':['gini','entropy'],\n",
    "            'min_samples_split':[2,10,20],\n",
    "             'max_depth':[5,10,20,25,30],\n",
    "             'min_samples_leaf':[1,5,10],\n",
    "             'max_leaf_nodes':[2,5,10,20]}\n",
    "grid = GridSearchCV(clf, param_grid, cv = 10, scoring='accuracy')\n",
    "grid.fit(X_train, Y_train)\n",
    "print(f\"Accuracy after hyperparameter tuning:{round(grid.best_score_*100)}%\")"
   ]
  },
  {
   "cell_type": "code",
   "execution_count": 76,
   "metadata": {},
   "outputs": [
    {
     "name": "stdout",
     "output_type": "stream",
     "text": [
      "Best parameters for decision tree algorithm are:\n",
      "criterion:gini\n",
      "max_depth:5\n",
      "max_leaf_nodes:20\n",
      "min_samples_leaf:10\n",
      "min_samples_split:2\n"
     ]
    }
   ],
   "source": [
    "print(\"Best parameters for decision tree algorithm are:\")\n",
    "for hps,values in grid.best_params_.items():\n",
    "    print(f\"{hps}:{values}\")"
   ]
  },
  {
   "cell_type": "code",
   "execution_count": 77,
   "metadata": {},
   "outputs": [
    {
     "data": {
      "text/plain": [
       "DecisionTreeClassifier(max_depth=5, max_leaf_nodes=20)"
      ]
     },
     "execution_count": 77,
     "metadata": {},
     "output_type": "execute_result"
    }
   ],
   "source": [
    "clf_best = DecisionTreeClassifier(criterion='gini',\n",
    "                                 max_depth=5,\n",
    "                                 max_leaf_nodes=20,\n",
    "                                 min_samples_leaf=1,\n",
    "                                 min_samples_split=2)\n",
    "clf_best.fit(X_train, Y_train)"
   ]
  },
  {
   "cell_type": "markdown",
   "metadata": {},
   "source": [
    "## Feature Importance"
   ]
  },
  {
   "cell_type": "code",
   "execution_count": 100,
   "metadata": {},
   "outputs": [
    {
     "data": {
      "text/html": [
       "<div>\n",
       "<style scoped>\n",
       "    .dataframe tbody tr th:only-of-type {\n",
       "        vertical-align: middle;\n",
       "    }\n",
       "\n",
       "    .dataframe tbody tr th {\n",
       "        vertical-align: top;\n",
       "    }\n",
       "\n",
       "    .dataframe thead th {\n",
       "        text-align: right;\n",
       "    }\n",
       "</style>\n",
       "<table border=\"1\" class=\"dataframe\">\n",
       "  <thead>\n",
       "    <tr style=\"text-align: right;\">\n",
       "      <th></th>\n",
       "      <th>Features</th>\n",
       "      <th>Imporance</th>\n",
       "    </tr>\n",
       "  </thead>\n",
       "  <tbody>\n",
       "    <tr>\n",
       "      <th>0</th>\n",
       "      <td>Age</td>\n",
       "      <td>0.116421</td>\n",
       "    </tr>\n",
       "    <tr>\n",
       "      <th>1</th>\n",
       "      <td>Height</td>\n",
       "      <td>0.001609</td>\n",
       "    </tr>\n",
       "    <tr>\n",
       "      <th>2</th>\n",
       "      <td>Weight</td>\n",
       "      <td>0.003058</td>\n",
       "    </tr>\n",
       "    <tr>\n",
       "      <th>3</th>\n",
       "      <td>High Blood Pressure</td>\n",
       "      <td>0.792580</td>\n",
       "    </tr>\n",
       "    <tr>\n",
       "      <th>4</th>\n",
       "      <td>Low Blood Pressure</td>\n",
       "      <td>0.002583</td>\n",
       "    </tr>\n",
       "    <tr>\n",
       "      <th>5</th>\n",
       "      <td>Smoke</td>\n",
       "      <td>0.003582</td>\n",
       "    </tr>\n",
       "    <tr>\n",
       "      <th>6</th>\n",
       "      <td>Alcohol</td>\n",
       "      <td>0.000000</td>\n",
       "    </tr>\n",
       "    <tr>\n",
       "      <th>7</th>\n",
       "      <td>Exercise</td>\n",
       "      <td>0.001670</td>\n",
       "    </tr>\n",
       "    <tr>\n",
       "      <th>8</th>\n",
       "      <td>female</td>\n",
       "      <td>0.000000</td>\n",
       "    </tr>\n",
       "    <tr>\n",
       "      <th>9</th>\n",
       "      <td>male</td>\n",
       "      <td>0.000000</td>\n",
       "    </tr>\n",
       "    <tr>\n",
       "      <th>10</th>\n",
       "      <td>Glucose_high</td>\n",
       "      <td>0.000000</td>\n",
       "    </tr>\n",
       "    <tr>\n",
       "      <th>11</th>\n",
       "      <td>Glucose_normal</td>\n",
       "      <td>0.000000</td>\n",
       "    </tr>\n",
       "    <tr>\n",
       "      <th>12</th>\n",
       "      <td>Glucose_too high</td>\n",
       "      <td>0.005899</td>\n",
       "    </tr>\n",
       "    <tr>\n",
       "      <th>13</th>\n",
       "      <td>Cholesterol_high</td>\n",
       "      <td>0.002741</td>\n",
       "    </tr>\n",
       "    <tr>\n",
       "      <th>14</th>\n",
       "      <td>Cholesterol_normal</td>\n",
       "      <td>0.000000</td>\n",
       "    </tr>\n",
       "    <tr>\n",
       "      <th>15</th>\n",
       "      <td>Cholesterol_too high</td>\n",
       "      <td>0.069856</td>\n",
       "    </tr>\n",
       "  </tbody>\n",
       "</table>\n",
       "</div>"
      ],
      "text/plain": [
       "                Features  Imporance\n",
       "0                    Age   0.116421\n",
       "1                 Height   0.001609\n",
       "2                 Weight   0.003058\n",
       "3    High Blood Pressure   0.792580\n",
       "4     Low Blood Pressure   0.002583\n",
       "5                  Smoke   0.003582\n",
       "6                Alcohol   0.000000\n",
       "7               Exercise   0.001670\n",
       "8                 female   0.000000\n",
       "9                   male   0.000000\n",
       "10          Glucose_high   0.000000\n",
       "11        Glucose_normal   0.000000\n",
       "12      Glucose_too high   0.005899\n",
       "13      Cholesterol_high   0.002741\n",
       "14    Cholesterol_normal   0.000000\n",
       "15  Cholesterol_too high   0.069856"
      ]
     },
     "execution_count": 100,
     "metadata": {},
     "output_type": "execute_result"
    }
   ],
   "source": [
    "feature_importance = clf_best.feature_importances_\n",
    "dt_importance = pd.DataFrame(list(zip(X_train.columns, feature_importance)),columns=['Features','Imporance'] )\n",
    "dt_importance"
   ]
  },
  {
   "cell_type": "markdown",
   "metadata": {},
   "source": [
    "# Section 4: Prediction and interpretation"
   ]
  },
  {
   "cell_type": "code",
   "execution_count": 78,
   "metadata": {},
   "outputs": [],
   "source": [
    "#Data preparation\n",
    "DP_test_df = DP_test_df[80 <= DP_test_df['High Blood Pressure']]\n",
    "DP_test_df = DP_test_df[DP_test_df['High Blood Pressure'] <=200]\n",
    "DP_test_df = DP_test_df[DP_test_df['Low Blood Pressure'] <=130]\n",
    "DP_test_df = DP_test_df[DP_test_df['High Blood Pressure'] >= 40]\n",
    "#transfrom categorical attributes to numeric using one-hot encoder\n",
    "#for naive bayes classifier\n",
    "DP_test = pd.concat([DP_test_df, pd.get_dummies(DP_test_df['Gender']),\n",
    "                            pd.get_dummies(DP_test_df['Glucose'], prefix='Glucose'),\n",
    "                            pd.get_dummies(DP_test_df['Cholesterol'], prefix='Cholesterol')\n",
    "                            ], axis = 1)\n",
    "DP_test.drop(['Gender','Glucose','Cholesterol'], axis = 1, inplace = True)\n",
    "#select features to predict\n",
    "DP_test_X = DP_test.drop('ID', axis=1)\n",
    "X_test_std = sc.transform(DP_test_X)"
   ]
  },
  {
   "cell_type": "code",
   "execution_count": 79,
   "metadata": {},
   "outputs": [],
   "source": [
    "#logistic regression \n",
    "lg = lr_pipe.predict(DP_test_X)"
   ]
  },
  {
   "cell_type": "code",
   "execution_count": 80,
   "metadata": {},
   "outputs": [
    {
     "name": "stdout",
     "output_type": "stream",
     "text": [
      "WARNING:tensorflow:From <ipython-input-80-7c51a4e232b5>:2: Sequential.predict_classes (from tensorflow.python.keras.engine.sequential) is deprecated and will be removed after 2021-01-01.\n",
      "Instructions for updating:\n",
      "Please use instead:* `np.argmax(model.predict(x), axis=-1)`,   if your model does multi-class classification   (e.g. if it uses a `softmax` last-layer activation).* `(model.predict(x) > 0.5).astype(\"int32\")`,   if your model does binary classification   (e.g. if it uses a `sigmoid` last-layer activation).\n"
     ]
    }
   ],
   "source": [
    "#ANN\n",
    "ANN0 = ANN_0.predict_classes(X_test_std).flatten()\n",
    "#ANN\n",
    "ANN1 = ANN_1.predict_classes(X_test_std).flatten()\n",
    "#ANN\n",
    "ANN2 = ANN_2.predict_classes(X_test_std).flatten()"
   ]
  },
  {
   "cell_type": "code",
   "execution_count": 81,
   "metadata": {},
   "outputs": [],
   "source": [
    "#DT\n",
    "DT = clf_best.predict(DP_test_X)"
   ]
  },
  {
   "cell_type": "code",
   "execution_count": 82,
   "metadata": {},
   "outputs": [],
   "source": [
    "prediction_results = pd.DataFrame({'ID':DP_test['ID'],'DT':DT,\n",
    "                     'LG':lg,'ANN0':ANN0,\n",
    "                    'ANN1':ANN1,'ANN2':ANN2})"
   ]
  },
  {
   "cell_type": "code",
   "execution_count": 88,
   "metadata": {},
   "outputs": [],
   "source": [
    "prediction_results.to_csv('hw04, prediction')"
   ]
  }
 ],
 "metadata": {
  "kernelspec": {
   "display_name": "Python 3",
   "language": "python",
   "name": "python3"
  },
  "language_info": {
   "codemirror_mode": {
    "name": "ipython",
    "version": 3
   },
   "file_extension": ".py",
   "mimetype": "text/x-python",
   "name": "python",
   "nbconvert_exporter": "python",
   "pygments_lexer": "ipython3",
   "version": "3.8.3"
  }
 },
 "nbformat": 4,
 "nbformat_minor": 4
}
