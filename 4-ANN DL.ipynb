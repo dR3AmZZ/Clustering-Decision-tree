{
 "cells": [
  {
   "cell_type": "code",
   "execution_count": 257,
   "metadata": {},
   "outputs": [],
   "source": [
    "import pandas as pd\n",
    "import numpy as np\n",
    "import matplotlib.pyplot as plt\n",
    "import seaborn as sns"
   ]
  },
  {
   "cell_type": "code",
   "execution_count": 2,
   "metadata": {},
   "outputs": [],
   "source": [
    "DP_train_df = pd.read_csv(\"Disease Prediction Training.csv\")\n",
    "DP_test_df = pd.read_csv(\"Disease Prediction Testing.csv\")"
   ]
  },
  {
   "cell_type": "markdown",
   "metadata": {},
   "source": [
    "# Section1: Data Preparation"
   ]
  },
  {
   "cell_type": "markdown",
   "metadata": {},
   "source": [
    "## Potential data quality issue "
   ]
  },
  {
   "cell_type": "markdown",
   "metadata": {},
   "source": [
    "For some distance-based algorithms, normalization is required cause attributes in data set are in the same scale. Differece of unit impacts calculation of distance and makes it inaccurate.\n",
    "\n",
    "To apply classification algorithms, all of the attributes should be the same type. A combination of numerical and categorical attributes is not allowed.\n",
    "\n",
    "Missing value in the data set can also have a huge influence on the results.\n",
    "\n",
    "Unvalidated data points. The data set contains index of normal human body, so there is normal range for these critirion. We need to do a research on them and figure out normal range and remove unvalidate data point out of the range."
   ]
  },
  {
   "cell_type": "markdown",
   "metadata": {},
   "source": [
    "## Data preprocessing"
   ]
  },
  {
   "cell_type": "markdown",
   "metadata": {},
   "source": [
    "### Basic data cleaning"
   ]
  },
  {
   "cell_type": "code",
   "execution_count": 279,
   "metadata": {},
   "outputs": [],
   "source": [
    "#test missing value\n",
    "any(DP_train_df.isna().any())\n",
    "any(DP_test_df.isna().any())\n",
    "DP_train_df.dropna(inplace=True)\n",
    "DP_test_df.dropna(inplace=True)\n",
    "#remove duplicates()\n",
    "DP_train_df.drop_duplicates(inplace=True)\n",
    "DP_test_df.drop_duplicates(inplace=True)"
   ]
  },
  {
   "cell_type": "markdown",
   "metadata": {},
   "source": [
    "### Data validation"
   ]
  },
  {
   "cell_type": "code",
   "execution_count": 5,
   "metadata": {},
   "outputs": [],
   "source": [
    "#data validation remove outliers in Blood pressure\n",
    "DP_train_df = DP_train_df[80 <= DP_train_df['High Blood Pressure']]\n",
    "DP_train_df = DP_train_df[DP_train_df['High Blood Pressure'] <=200]\n",
    "DP_train_df = DP_train_df[DP_train_df['Low Blood Pressure'] <=130]\n",
    "DP_train_df = DP_train_df[DP_train_df['High Blood Pressure'] >= 40]"
   ]
  },
  {
   "cell_type": "markdown",
   "metadata": {},
   "source": [
    "### Data converstion"
   ]
  },
  {
   "cell_type": "markdown",
   "metadata": {},
   "source": [
    "Transform categorical attributes Glucose, Cholesterol, Gender into numeric by one-hot encoding."
   ]
  },
  {
   "cell_type": "code",
   "execution_count": 275,
   "metadata": {
    "scrolled": true
   },
   "outputs": [],
   "source": [
    "#transfrom categorical attributes to numeric using one-hot encoder\n",
    "#for naive bayes classifier\n",
    "DP_train_df_NBC = pd.concat([DP_train_df, pd.get_dummies(DP_train_df['Gender']),\n",
    "                            pd.get_dummies(DP_train_df['Glucose'], prefix='Glucose'),\n",
    "                            pd.get_dummies(DP_train_df['Cholesterol'], prefix='Cholesterol')\n",
    "                            ], axis = 1)\n",
    "DP_train_df_NBC.drop(['Gender','Glucose','Cholesterol'], axis = 1, inplace = True)"
   ]
  },
  {
   "cell_type": "markdown",
   "metadata": {},
   "source": [
    "### Data standardization"
   ]
  },
  {
   "cell_type": "markdown",
   "metadata": {},
   "source": [
    "## Exploratory Data Analysis"
   ]
  },
  {
   "cell_type": "markdown",
   "metadata": {},
   "source": [
    "### High Blood Pressure among different gender"
   ]
  },
  {
   "cell_type": "code",
   "execution_count": 248,
   "metadata": {},
   "outputs": [
    {
     "data": {
      "image/png": "[encoded data removed]",
      "text/plain": [
       "<Figure size 432x288 with 1 Axes>"
      ]
     },
     "metadata": {
      "needs_background": "light"
     },
     "output_type": "display_data"
    }
   ],
   "source": [
    "ax = sns.boxplot(y='High Blood Pressure', x='Gender', \n",
    "                 data=DP_train_df, hue = 'Gender')\n",
    "plt.title(\"High Blood Pressure among different gender\")\n",
    "plt.show()"
   ]
  },
  {
   "cell_type": "markdown",
   "metadata": {},
   "source": [
    "### Disease vs. non-disease"
   ]
  },
  {
   "cell_type": "code",
   "execution_count": 274,
   "metadata": {},
   "outputs": [
    {
     "data": {
      "image/png": "[encoded data removed]",
      "text/plain": [
       "<Figure size 432x288 with 1 Axes>"
      ]
     },
     "metadata": {},
     "output_type": "display_data"
    }
   ],
   "source": [
    "disease_count = DP_train_df[DP_train_df['Disease']==1].count()[0]\n",
    "nondisease_count = DP_train_df[DP_train_df['Disease']==0].count()[0]\n",
    "plt.figure()\n",
    "plt.pie([disease_count,nondisease_count], labels=['disease','non_disease'])\n",
    "plt.title(\"disease vs. non-disease\")\n",
    "plt.show()"
   ]
  },
  {
   "cell_type": "markdown",
   "metadata": {},
   "source": [
    "# Section2:  Build, tune and evaluate various machine learning algorithms"
   ]
  },
  {
   "cell_type": "markdown",
   "metadata": {},
   "source": [
    "## Logistic Regression"
   ]
  },
  {
   "cell_type": "code",
   "execution_count": null,
   "metadata": {},
   "outputs": [],
   "source": []
  },
  {
   "cell_type": "code",
   "execution_count": null,
   "metadata": {},
   "outputs": [],
   "source": []
  },
  {
   "cell_type": "markdown",
   "metadata": {},
   "source": [
    "## ANN"
   ]
  },
  {
   "cell_type": "code",
   "execution_count": null,
   "metadata": {},
   "outputs": [],
   "source": []
  },
  {
   "cell_type": "code",
   "execution_count": null,
   "metadata": {},
   "outputs": [],
   "source": []
  },
  {
   "cell_type": "markdown",
   "metadata": {},
   "source": [
    "## Deep learning"
   ]
  },
  {
   "cell_type": "code",
   "execution_count": null,
   "metadata": {},
   "outputs": [],
   "source": []
  },
  {
   "cell_type": "code",
   "execution_count": null,
   "metadata": {},
   "outputs": [],
   "source": []
  },
  {
   "cell_type": "markdown",
   "metadata": {},
   "source": [
    "# Section3: Combination and Comparison of Multiple Machine Learning Algorithms "
   ]
  },
  {
   "cell_type": "markdown",
   "metadata": {},
   "source": [
    "## Decision Tree"
   ]
  },
  {
   "cell_type": "code",
   "execution_count": null,
   "metadata": {},
   "outputs": [],
   "source": []
  },
  {
   "cell_type": "code",
   "execution_count": null,
   "metadata": {},
   "outputs": [],
   "source": []
  },
  {
   "cell_type": "markdown",
   "metadata": {},
   "source": [
    "# Section 4: Prediction and interpretation"
   ]
  },
  {
   "cell_type": "code",
   "execution_count": null,
   "metadata": {},
   "outputs": [],
   "source": []
  }
 ],
 "metadata": {
  "kernelspec": {
   "display_name": "Python 3",
   "language": "python",
   "name": "python3"
  },
  "language_info": {
   "codemirror_mode": {
    "name": "ipython",
    "version": 3
   },
   "file_extension": ".py",
   "mimetype": "text/x-python",
   "name": "python",
   "nbconvert_exporter": "python",
   "pygments_lexer": "ipython3",
   "version": "3.7.6"
  }
 },
 "nbformat": 4,
 "nbformat_minor": 4
}
